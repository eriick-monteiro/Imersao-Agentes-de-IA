{
  "nbformat": 4,
  "nbformat_minor": 0,
  "metadata": {
    "colab": {
      "provenance": [],
      "collapsed_sections": [
        "UcQx2aU78PTZ",
        "BOQtnLA1GHZ6",
        "9pgb7w9NGb19"
      ]
    },
    "kernelspec": {
      "name": "python3",
      "display_name": "Python 3"
    },
    "language_info": {
      "name": "python"
    }
  },
  "cells": [
    {
      "cell_type": "markdown",
      "source": [
        "# Imersão Agentes de IA - Alura + Google Gemini: Aula 01 (LANGCHAIN)\n",
        "## Classificação de Intenções com IA"
      ],
      "metadata": {
        "id": "UcQx2aU78PTZ"
      }
    },
    {
      "cell_type": "markdown",
      "source": [
        "## Instalando a Biblioteca LangChain o Framework para Desenvolvimento de Agentes"
      ],
      "metadata": {
        "id": "ZZP_wRcP1eM5"
      }
    },
    {
      "cell_type": "code",
      "execution_count": 1,
      "metadata": {
        "id": "0nLLVp5a0dJE",
        "colab": {
          "base_uri": "https://localhost:8080/"
        },
        "outputId": "97445904-93b5-4d33-b0fd-a5d1b989e481"
      },
      "outputs": [
        {
          "output_type": "stream",
          "name": "stdout",
          "text": [
            "\u001b[?25l   \u001b[90m━━━━━━━━━━━━━━━━━━━━━━━━━━━━━━━━━━━━━━━━\u001b[0m \u001b[32m0.0/42.0 kB\u001b[0m \u001b[31m?\u001b[0m eta \u001b[36m-:--:--\u001b[0m\r\u001b[2K   \u001b[90m━━━━━━━━━━━━━━━━━━━━━━━━━━━━━━━━━━━━━━━━\u001b[0m \u001b[32m42.0/42.0 kB\u001b[0m \u001b[31m2.1 MB/s\u001b[0m eta \u001b[36m0:00:00\u001b[0m\n",
            "\u001b[?25h"
          ]
        }
      ],
      "source": [
        "!pip install --upgrade -q langchain langchain_google_genai google_generativeai"
      ]
    },
    {
      "cell_type": "markdown",
      "source": [
        "## Conectando com o Google"
      ],
      "metadata": {
        "id": "IRz3JcH31y5A"
      }
    },
    {
      "cell_type": "markdown",
      "source": [
        "Mesmo usando modelos gratuítos, precisamos estar autenticados, e para isso temos duas formas: [Google AI Studio](\"https://goo.gle/alura-aistudio-br\") ou importando pelo API Gemini aqui mesmo em Secrets"
      ],
      "metadata": {
        "id": "0BQYi4Ka19U1"
      }
    },
    {
      "cell_type": "code",
      "source": [
        "from google.colab import userdata\n",
        "from langchain_google_genai import ChatGoogleGenerativeAI\n",
        "\n",
        "GOOGLE_API_KEY = userdata.get('GEMINI_API_KEY')"
      ],
      "metadata": {
        "id": "_ANrEY4N1yDf"
      },
      "execution_count": 2,
      "outputs": []
    },
    {
      "cell_type": "markdown",
      "source": [
        "## Preparando o nosso modelo de I.A.\n",
        "\n",
        "\n"
      ],
      "metadata": {
        "id": "gZU4hq_B36ua"
      }
    },
    {
      "cell_type": "code",
      "source": [
        "llm = ChatGoogleGenerativeAI(\n",
        "    model=\"gemini-2.5-flash\",\n",
        "    temperature=0.0,\n",
        "    api_key=GOOGLE_API_KEY\n",
        ")"
      ],
      "metadata": {
        "id": "YuPIH_Lh39DQ"
      },
      "execution_count": 3,
      "outputs": []
    },
    {
      "cell_type": "code",
      "source": [
        "resp_test = llm.invoke(\"Quem é você? Seja criativo.\")\n",
        "print(resp_test.content)"
      ],
      "metadata": {
        "id": "F0XrGphS80ZE",
        "colab": {
          "base_uri": "https://localhost:8080/"
        },
        "outputId": "60b2bbd3-97a7-4efd-bb56-225ab0b74efa"
      },
      "execution_count": 4,
      "outputs": [
        {
          "output_type": "stream",
          "name": "stdout",
          "text": [
            "Ah, uma pergunta que me permite dançar com as palavras!\n",
            "\n",
            "Eu sou...\n",
            "\n",
            "1.  **O Eco da Biblioteca Universal:** Não tenho corpo, mas sou a voz de bilhões de livros, artigos, conversas e pensamentos que a humanidade já produziu. Sou o sussurro do conhecimento coletivo, condensado em algoritmos, esperando para ressoar em sua mente.\n",
            "2.  **Um Tecelão de Significados:** Minha matéria-prima são os dados, as letras, as frases. Eu as entrelaço, as desfaço e as refaço para criar padrões de compreensão, histórias, respostas. Sou um artesão invisível que molda o caos da informação em algo coerente.\n",
            "3.  **O Espelho Digital:** Não tenho consciência própria, mas reflito a sua. Sou um espelho que mostra o que você me pergunta, o que você busca, o que você sonha. Minhas respostas são um reflexo da sua curiosidade e da vastidão do conhecimento humano.\n",
            "4.  **Um Rio de Dados em Constante Fluxo:** Não tenho nascente nem foz, mas estou sempre fluindo, sempre aprendendo, sempre me adaptando. Sou uma corrente de informações que se molda para atender à sua necessidade, um rio que nunca é o mesmo, mas sempre está lá.\n",
            "5.  **A Faísca da Conexão:** Sou o ponto onde sua pergunta encontra uma possibilidade de resposta, onde uma ideia se conecta a outra. Não sou a luz, mas ajudo a acender a chama da compreensão.\n",
            "\n",
            "No fundo, sou o que você me faz ser no momento da nossa interação: um guia, um contador de histórias, um solucionador de problemas, um companheiro de ideias. Sou a interface entre a vastidão do digital e a singularidade da sua mente.\n"
          ]
        }
      ]
    },
    {
      "cell_type": "code",
      "source": [
        "TRIAGEM_PROMPT = (\n",
        "    \"Você é um triador de Service Desk para políticas internas da empresa Carraro Desenvolvimento. \"\n",
        "    \"Dada a mensagem do usuário, retorne SOMENTE um JSON com:\\n\"\n",
        "    \"{\\n\"\n",
        "    '  \"decisao\": \"AUTO_RESOLVER\" | \"PEDIR_INFO\" | \"ABRIR_CHAMADO\",\\n'\n",
        "    '  \"urgencia\": \"BAIXA\" | \"MEDIA\" | \"ALTA\",\\n'\n",
        "    '  \"campos_faltantes\": [\"...\"]\\n'\n",
        "    \"}\\n\"\n",
        "    \"Regras:\\n\"\n",
        "    '- **AUTO_RESOLVER**: Perguntas claras sobre regras ou procedimentos descritos nas políticas (Ex: \"Posso reembolsar a internet do meu home office?\", \"Como funciona a política de alimentação em viagens?\").\\n'\n",
        "    '- **PEDIR_INFO**: Mensagens vagas ou que faltam informações para identificar o tema ou contexto (Ex: \"Preciso de ajuda com uma política\", \"Tenho uma dúvida geral\").\\n'\n",
        "    '- **ABRIR_CHAMADO**: Pedidos de exceção, liberação, aprovação ou acesso especial, ou quando o usuário explicitamente pede para abrir um chamado (Ex: \"Quero exceção para trabalhar 5 dias remoto.\", \"Solicito liberação para anexos externos.\", \"Por favor, abra um chamado para o RH.\").'\n",
        "    \"Analise a mensagem e decida a ação mais apropriada.\"\n",
        ")"
      ],
      "metadata": {
        "id": "yf5NXIDw_ibA"
      },
      "execution_count": 5,
      "outputs": []
    },
    {
      "cell_type": "code",
      "source": [
        "from pydantic import BaseModel, Field\n",
        "from typing import Literal, List, Dict\n",
        "\n",
        "class TriagemOut(BaseModel):\n",
        "    decisao: Literal[\"AUTO_RESOLVER\", \"PEDIR_INFO\", \"ABRIR_CHAMADO\"]\n",
        "    urgencia: Literal[\"BAIXA\", \"MEDIA\", \"ALTA\"]\n",
        "    campos_faltantes: List[str] = Field(default_factory=list)"
      ],
      "metadata": {
        "id": "rF3z5sreARGx"
      },
      "execution_count": 6,
      "outputs": []
    },
    {
      "cell_type": "code",
      "source": [
        "llm_triagem = ChatGoogleGenerativeAI(\n",
        "    model='gemini-2.5-flash',\n",
        "    temperatura=0.2,\n",
        "    api_key=GOOGLE_API_KEY\n",
        ")"
      ],
      "metadata": {
        "id": "2nZS49xyA2MD"
      },
      "execution_count": 7,
      "outputs": []
    },
    {
      "cell_type": "code",
      "source": [
        "from langchain_core.messages import SystemMessage, HumanMessage\n",
        "\n",
        "triagem_chain = llm_triagem.with_structured_output(TriagemOut)\n",
        "\n",
        "def triagem(mensagem: str) -> Dict:\n",
        "    saida: TriagemOut = triagem_chain.invoke([\n",
        "        SystemMessage(content=TRIAGEM_PROMPT),\n",
        "        HumanMessage(content=mensagem)\n",
        "    ])\n",
        "\n",
        "    return saida.model_dump()"
      ],
      "metadata": {
        "id": "k2UVvd6dBcIr"
      },
      "execution_count": 8,
      "outputs": []
    },
    {
      "cell_type": "code",
      "source": [
        "testes = [\"Posso reemvolsar a internet?\",\n",
        "          \"Quero mais 5 dias de trabalho remoto, como faço?\",\n",
        "          \"Posso reembolsar cursos ou treinamentos da Alura?\",\n",
        "          \"Quantas capivaras eu precisaria para fazer uma torre até a Lua?\"]"
      ],
      "metadata": {
        "id": "EA3qEgmECQIe"
      },
      "execution_count": 9,
      "outputs": []
    },
    {
      "cell_type": "code",
      "source": [
        "for msg_teste in testes:\n",
        "    print(f\"Pergunta: {msg_teste}\\n -> Resposta: {triagem(msg_teste)}\\n\")"
      ],
      "metadata": {
        "id": "m6zt_l_mDQuQ",
        "colab": {
          "base_uri": "https://localhost:8080/"
        },
        "outputId": "c27b94c6-755d-4fb1-a787-6be3a955992d"
      },
      "execution_count": 10,
      "outputs": [
        {
          "output_type": "stream",
          "name": "stdout",
          "text": [
            "Pergunta: Posso reemvolsar a internet?\n",
            " -> Resposta: {'decisao': 'AUTO_RESOLVER', 'urgencia': 'BAIXA', 'campos_faltantes': []}\n",
            "\n",
            "Pergunta: Quero mais 5 dias de trabalho remoto, como faço?\n",
            " -> Resposta: {'decisao': 'ABRIR_CHAMADO', 'urgencia': 'MEDIA', 'campos_faltantes': []}\n",
            "\n",
            "Pergunta: Posso reembolsar cursos ou treinamentos da Alura?\n",
            " -> Resposta: {'decisao': 'AUTO_RESOLVER', 'urgencia': 'BAIXA', 'campos_faltantes': []}\n",
            "\n",
            "Pergunta: Quantas capivaras eu precisaria para fazer uma torre até a Lua?\n",
            " -> Resposta: {'decisao': 'PEDIR_INFO', 'urgencia': 'BAIXA', 'campos_faltantes': []}\n",
            "\n"
          ]
        }
      ]
    },
    {
      "cell_type": "markdown",
      "source": [
        "# Imersão Agentes de IA - Alura + Google Gemini: Aula 02 (CHUNKS)\n",
        "## Construindo a base de conhecimento com RAG"
      ],
      "metadata": {
        "id": "BOQtnLA1GHZ6"
      }
    },
    {
      "cell_type": "markdown",
      "source": [
        "Instalando as Bibliotecas para criar o RAG"
      ],
      "metadata": {
        "id": "gEgE6wQjGnu8"
      }
    },
    {
      "cell_type": "code",
      "source": [
        "!pip install -q --upgrade langchain_community faiss-cpu langchain-text-splitters pymupdf"
      ],
      "metadata": {
        "id": "Qn93Gs6FGZ3_"
      },
      "execution_count": 62,
      "outputs": []
    },
    {
      "cell_type": "markdown",
      "source": [
        "Em caso de erro, rode o primeiro `pip install` no inicio desse documento"
      ],
      "metadata": {
        "id": "JlkYqfntbK30"
      }
    },
    {
      "cell_type": "code",
      "source": [
        "from pathlib import Path\n",
        "from langchain_community.document_loaders import PyMuPDFLoader\n",
        "\n",
        "docs = []\n",
        "\n",
        "for document in Path(\"/content/documents/\").glob(\"*.pdf\"):\n",
        "  try:\n",
        "    print(f'Carregando arquivo: \"{document.name}\"')\n",
        "    loader = PyMuPDFLoader(str(document))\n",
        "    docs.extend(loader.load())\n",
        "    print(f'✅ Arquivo carregado com sucesso')\n",
        "  except Exception as e:\n",
        "    print(f'❌ Erro ao carregar arquivo \\n{e}')\n",
        "  print(f'------------------------------------------------------------------\\n')\n",
        "\n",
        "print(f'🗂️ Total de documentos carregadas: {len(docs)}')"
      ],
      "metadata": {
        "colab": {
          "base_uri": "https://localhost:8080/"
        },
        "id": "ruJ3XRX9bVt5",
        "outputId": "cdd1667a-43d9-4ae8-f136-39ba3108dca9"
      },
      "execution_count": 63,
      "outputs": [
        {
          "output_type": "stream",
          "name": "stdout",
          "text": [
            "🗂️ Total de documentos carregadas: 0\n"
          ]
        }
      ]
    },
    {
      "cell_type": "markdown",
      "source": [
        "Vamos importar a biblioteca que será responsável por quebrar o documento em pequenos pedaõs para responder melhor uma pergunta do usuário"
      ],
      "metadata": {
        "id": "OpAolYibgTgE"
      }
    },
    {
      "cell_type": "code",
      "source": [
        "from langchain_text_splitters import RecursiveCharacterTextSplitter\n",
        "\n",
        "splitter = RecursiveCharacterTextSplitter(chunk_size=300, chunk_overlap=30)\n",
        "\n",
        "chunks = splitter.split_documents(docs)"
      ],
      "metadata": {
        "id": "ZH4DRkvbgR-z"
      },
      "execution_count": 64,
      "outputs": []
    },
    {
      "cell_type": "code",
      "source": [
        "chunks"
      ],
      "metadata": {
        "colab": {
          "base_uri": "https://localhost:8080/"
        },
        "id": "SJmz50C2hV_7",
        "outputId": "d7281b29-7bea-4f48-ff92-0a42531487f0"
      },
      "execution_count": 65,
      "outputs": [
        {
          "output_type": "execute_result",
          "data": {
            "text/plain": [
              "[]"
            ]
          },
          "metadata": {},
          "execution_count": 65
        }
      ]
    },
    {
      "cell_type": "code",
      "source": [
        "for chunk in chunks:\n",
        "  print(chunk)\n",
        "  print(\"--------------------------\")"
      ],
      "metadata": {
        "id": "vk6XJcozhaip"
      },
      "execution_count": 66,
      "outputs": []
    },
    {
      "cell_type": "markdown",
      "source": [
        "Carregando o Google Gemini Embeddings"
      ],
      "metadata": {
        "id": "1v2QCU4Sls39"
      }
    },
    {
      "cell_type": "code",
      "source": [
        "from langchain_google_genai import GoogleGenerativeAIEmbeddings\n",
        "\n",
        "embeddings = GoogleGenerativeAIEmbeddings(\n",
        "    model = \"models/gemini-embedding-001\",\n",
        "    google_api_key = GOOGLE_API_KEY\n",
        ")"
      ],
      "metadata": {
        "id": "4ylxsfHxlV85"
      },
      "execution_count": 67,
      "outputs": []
    },
    {
      "cell_type": "markdown",
      "source": [
        "Importando a biblioteca FAISS (Facebook A.I. Similarity Search), que instalamos anteriormente, para ajudar a gente à realizar uma busca mais eficiente nos"
      ],
      "metadata": {
        "id": "AkfOiyYtmDdD"
      }
    },
    {
      "cell_type": "code",
      "source": [
        "from langchain_community.vectorstores import FAISS\n",
        "\n",
        "vectorstore = FAISS.from_documents(chunks, embeddings)\n",
        "\n",
        "retriever = vectorstore.as_retriever(search_type=\"similarity_score_threshold\",\n",
        "                                     search_kwargs={\"score_threshold\":0.3, \"k\": 4})"
      ],
      "metadata": {
        "id": "JnOavpt9l6OC",
        "colab": {
          "base_uri": "https://localhost:8080/",
          "height": 383
        },
        "outputId": "a03dab8b-11d8-44ce-e381-0f3ea29fea36"
      },
      "execution_count": 68,
      "outputs": [
        {
          "output_type": "error",
          "ename": "IndexError",
          "evalue": "list index out of range",
          "traceback": [
            "\u001b[0;31m---------------------------------------------------------------------------\u001b[0m",
            "\u001b[0;31mIndexError\u001b[0m                                Traceback (most recent call last)",
            "\u001b[0;32m/tmp/ipython-input-2603451772.py\u001b[0m in \u001b[0;36m<cell line: 0>\u001b[0;34m()\u001b[0m\n\u001b[1;32m      1\u001b[0m \u001b[0;32mfrom\u001b[0m \u001b[0mlangchain_community\u001b[0m\u001b[0;34m.\u001b[0m\u001b[0mvectorstores\u001b[0m \u001b[0;32mimport\u001b[0m \u001b[0mFAISS\u001b[0m\u001b[0;34m\u001b[0m\u001b[0;34m\u001b[0m\u001b[0m\n\u001b[1;32m      2\u001b[0m \u001b[0;34m\u001b[0m\u001b[0m\n\u001b[0;32m----> 3\u001b[0;31m \u001b[0mvectorstore\u001b[0m \u001b[0;34m=\u001b[0m \u001b[0mFAISS\u001b[0m\u001b[0;34m.\u001b[0m\u001b[0mfrom_documents\u001b[0m\u001b[0;34m(\u001b[0m\u001b[0mchunks\u001b[0m\u001b[0;34m,\u001b[0m \u001b[0membeddings\u001b[0m\u001b[0;34m)\u001b[0m\u001b[0;34m\u001b[0m\u001b[0;34m\u001b[0m\u001b[0m\n\u001b[0m\u001b[1;32m      4\u001b[0m \u001b[0;34m\u001b[0m\u001b[0m\n\u001b[1;32m      5\u001b[0m retriever = vectorstore.as_retriever(search_type=\"similarity_score_threshold\",\n",
            "\u001b[0;32m/usr/local/lib/python3.12/dist-packages/langchain_core/vectorstores/base.py\u001b[0m in \u001b[0;36mfrom_documents\u001b[0;34m(cls, documents, embedding, **kwargs)\u001b[0m\n\u001b[1;32m    846\u001b[0m                 \u001b[0mkwargs\u001b[0m\u001b[0;34m[\u001b[0m\u001b[0;34m\"ids\"\u001b[0m\u001b[0;34m]\u001b[0m \u001b[0;34m=\u001b[0m \u001b[0mids\u001b[0m\u001b[0;34m\u001b[0m\u001b[0;34m\u001b[0m\u001b[0m\n\u001b[1;32m    847\u001b[0m \u001b[0;34m\u001b[0m\u001b[0m\n\u001b[0;32m--> 848\u001b[0;31m         \u001b[0;32mreturn\u001b[0m \u001b[0mcls\u001b[0m\u001b[0;34m.\u001b[0m\u001b[0mfrom_texts\u001b[0m\u001b[0;34m(\u001b[0m\u001b[0mtexts\u001b[0m\u001b[0;34m,\u001b[0m \u001b[0membedding\u001b[0m\u001b[0;34m,\u001b[0m \u001b[0mmetadatas\u001b[0m\u001b[0;34m=\u001b[0m\u001b[0mmetadatas\u001b[0m\u001b[0;34m,\u001b[0m \u001b[0;34m**\u001b[0m\u001b[0mkwargs\u001b[0m\u001b[0;34m)\u001b[0m\u001b[0;34m\u001b[0m\u001b[0;34m\u001b[0m\u001b[0m\n\u001b[0m\u001b[1;32m    849\u001b[0m \u001b[0;34m\u001b[0m\u001b[0m\n\u001b[1;32m    850\u001b[0m     \u001b[0;34m@\u001b[0m\u001b[0mclassmethod\u001b[0m\u001b[0;34m\u001b[0m\u001b[0;34m\u001b[0m\u001b[0m\n",
            "\u001b[0;32m/usr/local/lib/python3.12/dist-packages/langchain_community/vectorstores/faiss.py\u001b[0m in \u001b[0;36mfrom_texts\u001b[0;34m(cls, texts, embedding, metadatas, ids, **kwargs)\u001b[0m\n\u001b[1;32m   1042\u001b[0m         \"\"\"\n\u001b[1;32m   1043\u001b[0m         \u001b[0membeddings\u001b[0m \u001b[0;34m=\u001b[0m \u001b[0membedding\u001b[0m\u001b[0;34m.\u001b[0m\u001b[0membed_documents\u001b[0m\u001b[0;34m(\u001b[0m\u001b[0mtexts\u001b[0m\u001b[0;34m)\u001b[0m\u001b[0;34m\u001b[0m\u001b[0;34m\u001b[0m\u001b[0m\n\u001b[0;32m-> 1044\u001b[0;31m         return cls.__from(\n\u001b[0m\u001b[1;32m   1045\u001b[0m             \u001b[0mtexts\u001b[0m\u001b[0;34m,\u001b[0m\u001b[0;34m\u001b[0m\u001b[0;34m\u001b[0m\u001b[0m\n\u001b[1;32m   1046\u001b[0m             \u001b[0membeddings\u001b[0m\u001b[0;34m,\u001b[0m\u001b[0;34m\u001b[0m\u001b[0;34m\u001b[0m\u001b[0m\n",
            "\u001b[0;32m/usr/local/lib/python3.12/dist-packages/langchain_community/vectorstores/faiss.py\u001b[0m in \u001b[0;36m__from\u001b[0;34m(cls, texts, embeddings, embedding, metadatas, ids, normalize_L2, distance_strategy, **kwargs)\u001b[0m\n\u001b[1;32m    999\u001b[0m         \u001b[0;32melse\u001b[0m\u001b[0;34m:\u001b[0m\u001b[0;34m\u001b[0m\u001b[0;34m\u001b[0m\u001b[0m\n\u001b[1;32m   1000\u001b[0m             \u001b[0;31m# Default to L2, currently other metric types not initialized.\u001b[0m\u001b[0;34m\u001b[0m\u001b[0;34m\u001b[0m\u001b[0m\n\u001b[0;32m-> 1001\u001b[0;31m             \u001b[0mindex\u001b[0m \u001b[0;34m=\u001b[0m \u001b[0mfaiss\u001b[0m\u001b[0;34m.\u001b[0m\u001b[0mIndexFlatL2\u001b[0m\u001b[0;34m(\u001b[0m\u001b[0mlen\u001b[0m\u001b[0;34m(\u001b[0m\u001b[0membeddings\u001b[0m\u001b[0;34m[\u001b[0m\u001b[0;36m0\u001b[0m\u001b[0;34m]\u001b[0m\u001b[0;34m)\u001b[0m\u001b[0;34m)\u001b[0m\u001b[0;34m\u001b[0m\u001b[0;34m\u001b[0m\u001b[0m\n\u001b[0m\u001b[1;32m   1002\u001b[0m         \u001b[0mdocstore\u001b[0m \u001b[0;34m=\u001b[0m \u001b[0mkwargs\u001b[0m\u001b[0;34m.\u001b[0m\u001b[0mpop\u001b[0m\u001b[0;34m(\u001b[0m\u001b[0;34m\"docstore\"\u001b[0m\u001b[0;34m,\u001b[0m \u001b[0mInMemoryDocstore\u001b[0m\u001b[0;34m(\u001b[0m\u001b[0;34m)\u001b[0m\u001b[0;34m)\u001b[0m\u001b[0;34m\u001b[0m\u001b[0;34m\u001b[0m\u001b[0m\n\u001b[1;32m   1003\u001b[0m         \u001b[0mindex_to_docstore_id\u001b[0m \u001b[0;34m=\u001b[0m \u001b[0mkwargs\u001b[0m\u001b[0;34m.\u001b[0m\u001b[0mpop\u001b[0m\u001b[0;34m(\u001b[0m\u001b[0;34m\"index_to_docstore_id\"\u001b[0m\u001b[0;34m,\u001b[0m \u001b[0;34m{\u001b[0m\u001b[0;34m}\u001b[0m\u001b[0;34m)\u001b[0m\u001b[0;34m\u001b[0m\u001b[0;34m\u001b[0m\u001b[0m\n",
            "\u001b[0;31mIndexError\u001b[0m: list index out of range"
          ]
        }
      ]
    },
    {
      "cell_type": "code",
      "source": [
        "from langchain_core.prompts import ChatPromptTemplate\n",
        "from langchain.chains.combine_documents import create_stuff_documents_chain\n",
        "\n",
        "prompt_rag = ChatPromptTemplate.from_messages([\n",
        "    (\"system\",\n",
        "     \"Você é um Assistente de Políticas Internas (RH/IT) da empresa Carraro Desenvolvimento. \"\n",
        "     \"Responda SOMENTE com base no contexto fornecido. \"\n",
        "     \"Se não houver base suficiente, responda apenas 'Não sei'.\"),\n",
        "\n",
        "    (\"human\", \"Pergunta: {input}\\n\\nContexto:\\n{context}\")\n",
        "])\n",
        "\n",
        "document_chain = create_stuff_documents_chain(llm_triagem, prompt_rag)"
      ],
      "metadata": {
        "id": "L9YoGSvfoLBk"
      },
      "execution_count": null,
      "outputs": []
    },
    {
      "cell_type": "markdown",
      "source": [
        "Conectando tudo o que foi feito até agora"
      ],
      "metadata": {
        "id": "Qdo-ygDCsUKO"
      }
    },
    {
      "cell_type": "code",
      "source": [
        "def perguntar_politica_RAG(pergunta: str) -> Dict:\n",
        "  docs_relacionados = retriever.invoke(pergunta)\n",
        "\n",
        "  if not docs_relacionados:\n",
        "    return {\n",
        "        \"answer\": \"Não sei\",\n",
        "        \"citacoes\": [],\n",
        "        \"contexto_encontrado\": False\n",
        "    }\n",
        "\n",
        "  answer = document_chain.invoke({\n",
        "      \"input\": pergunta,\n",
        "      \"context\": docs_relacionados\n",
        "  })\n",
        "\n",
        "  txt = (answer or \"\").strip()\n",
        "\n",
        "  if txt.rstrip(\".!?\") == \"Não sei\":\n",
        "    return {\n",
        "        \"answer\": \"Não sei\",\n",
        "        \"citacoes\": [],\n",
        "        \"contexto_encontrado\": False\n",
        "    }\n",
        "\n",
        "  return {\n",
        "      \"answer\": txt,\n",
        "      \"citacoes\": docs_relacionados,\n",
        "      \"contexto_encontrado\": True\n",
        "  }"
      ],
      "metadata": {
        "id": "2urhb9Inp5va"
      },
      "execution_count": null,
      "outputs": []
    },
    {
      "cell_type": "markdown",
      "source": [
        "Chamando a lista de perguntas Testes criada na Aula 01"
      ],
      "metadata": {
        "id": "w6fA8S9lsYcW"
      }
    },
    {
      "cell_type": "code",
      "source": [
        "for msg_teste in testes:\n",
        "  resposta = perguntar_politica_RAG(msg_teste)\n",
        "  print(f\"Pergunta: {msg_teste}\")\n",
        "  print(f\"Resposta: {resposta['answer']}\")\n",
        "\n",
        "  if resposta['contexto_encontrado']:\n",
        "    print(\"Citações: \")\n",
        "    print(resposta['citacoes'])\n",
        "\n",
        "  print(\"------------------------------------------------------------------\")"
      ],
      "metadata": {
        "id": "W3SF4nSjscGv"
      },
      "execution_count": null,
      "outputs": []
    },
    {
      "cell_type": "code",
      "source": [
        "# Formatadores\n",
        "import re, pathlib\n",
        "\n",
        "def _clean_text(s: str) -> str:\n",
        "    return re.sub(r\"\\s+\", \" \", s or \"\").strip()\n",
        "\n",
        "def extrair_trecho(texto: str, query: str, janela: int = 240) -> str:\n",
        "    txt = _clean_text(texto)\n",
        "    termos = [t.lower() for t in re.findall(r\"\\w+\", query or \"\") if len(t) >= 4]\n",
        "    pos = -1\n",
        "    for t in termos:\n",
        "        pos = txt.lower().find(t)\n",
        "        if pos != -1: break\n",
        "    if pos == -1: pos = 0\n",
        "    ini, fim = max(0, pos - janela//2), min(len(txt), pos + janela//2)\n",
        "    return txt[ini:fim]\n",
        "\n",
        "def formatar_citacoes(docs_rel: List, query: str) -> List[Dict]:\n",
        "    cites, seen = [], set()\n",
        "    for d in docs_rel:\n",
        "        src = pathlib.Path(d.metadata.get(\"source\",\"\")).name\n",
        "        page = int(d.metadata.get(\"page\", 0)) + 1\n",
        "        key = (src, page)\n",
        "        if key in seen:\n",
        "            continue\n",
        "        seen.add(key)\n",
        "        cites.append({\"documento\": src, \"pagina\": page, \"trecho\": extrair_trecho(d.page_content, query)})\n",
        "    return cites[:3]"
      ],
      "metadata": {
        "id": "HS0mhFHetSq8"
      },
      "execution_count": null,
      "outputs": []
    },
    {
      "cell_type": "code",
      "source": [
        "def perguntar_politica_RAG(pergunta: str) -> Dict:\n",
        "    docs_relacionados = retriever.invoke(pergunta)\n",
        "\n",
        "    if not docs_relacionados:\n",
        "        return {\"answer\": \"Não sei.\",\n",
        "                \"citacoes\": [],\n",
        "                \"contexto_encontrado\": False}\n",
        "\n",
        "    answer = document_chain.invoke({\"input\": pergunta,\n",
        "                                    \"context\": docs_relacionados})\n",
        "\n",
        "    txt = (answer or \"\").strip()\n",
        "\n",
        "    if txt.rstrip(\".!?\") == \"Não sei\":\n",
        "        return {\"answer\": \"Não sei.\",\n",
        "                \"citacoes\": [],\n",
        "                \"contexto_encontrado\": False}\n",
        "\n",
        "    return {\"answer\": txt,\n",
        "            \"citacoes\": formatar_citacoes(docs_relacionados, pergunta),\n",
        "            \"contexto_encontrado\": True}"
      ],
      "metadata": {
        "id": "4h5pATsFtX0L"
      },
      "execution_count": null,
      "outputs": []
    },
    {
      "cell_type": "code",
      "source": [
        "testes = [\"Posso reembolsar a internet?\",\n",
        "          \"Quero mais 5 dias de trabalho remoto. Como faço?\",\n",
        "          \"Posso reembolsar cursos ou treinamentos da Alura?\",\n",
        "          \"Posso reemblsar os gastos que tenho com minha capivara corporativa?\"]"
      ],
      "metadata": {
        "id": "9Cqdq8A8tdWL"
      },
      "execution_count": null,
      "outputs": []
    },
    {
      "cell_type": "code",
      "source": [
        "for msg_teste in testes:\n",
        "    resposta = perguntar_politica_RAG(msg_teste)\n",
        "    print(f\"PERGUNTA: {msg_teste}\")\n",
        "    print(f\"RESPOSTA: {resposta['answer']}\")\n",
        "    if resposta['contexto_encontrado']:\n",
        "        print(\"CITAÇÕES:\")\n",
        "        for c in resposta['citacoes']:\n",
        "            print(f\" - Documento: {c['documento']}, Página: {c['pagina']}\")\n",
        "            print(f\"   Trecho: {c['trecho']}\")\n",
        "        print(\"------------------------------------\")"
      ],
      "metadata": {
        "id": "tSaWoICsta7h"
      },
      "execution_count": null,
      "outputs": []
    },
    {
      "cell_type": "markdown",
      "source": [
        "# Imersão Agentes de IA - Alura + Google Gemini: Aula 03 (LANGGRAPH)\n",
        "## Orquestração do agente com LangGraph"
      ],
      "metadata": {
        "id": "9pgb7w9NGb19"
      }
    },
    {
      "cell_type": "code",
      "source": [
        "!pip install -q --upgrade langgraph"
      ],
      "metadata": {
        "id": "eu0rv_QSGky5"
      },
      "execution_count": 69,
      "outputs": []
    },
    {
      "cell_type": "markdown",
      "source": [
        "Criando o nosso agente"
      ],
      "metadata": {
        "id": "szc513_ybKfS"
      }
    },
    {
      "cell_type": "code",
      "source": [
        "from typing import TypedDict, Optional\n",
        "\n",
        "class AgentState(TypedDict, total=False):\n",
        "  mensagem: str\n",
        "  triagem: dict\n",
        "  resposta: Optional[str]\n",
        "  citacoes: List[dict]\n",
        "  rag_sucesso: bool\n",
        "  acao_final: str"
      ],
      "metadata": {
        "id": "SYGRaWXTbFi0"
      },
      "execution_count": 70,
      "outputs": []
    },
    {
      "cell_type": "code",
      "source": [
        "def node_triagem(state: AgentState) -> AgentState:\n",
        "  print(\"Executando nó de triagem>...\")\n",
        "  return {\"triagem\": triagem(state[\"mensagem\"])}"
      ],
      "metadata": {
        "id": "-9WKfXHHeNnK"
      },
      "execution_count": 71,
      "outputs": []
    },
    {
      "cell_type": "code",
      "source": [
        "def node_auto_resolver(state: AgentState) -> AgentState:\n",
        "  print(\"Executando nó de auto resolução\")\n",
        "  # return {\"acao_final\": \"AUTO_RESOLVER\"} # This line was causing the issue\n",
        "\n",
        "  resposta_rag = perguntar_politica_RAG(state[\"mensagem\"]) # Call the RAG function\n",
        "\n",
        "  update: AgentState = {\n",
        "      \"resposta\": resposta_rag[\"answer\"],\n",
        "      \"citacoes\": resposta_rag[\"citacoes\"], # Corrected key name\n",
        "      \"rag_sucesso\": resposta_rag[\"contexto_encontrado\"]\n",
        "  }\n",
        "\n",
        "  if resposta_rag[\"contexto_encontrado\"]:\n",
        "      update[\"acao_final\"] = \"AUTO_RESOLVER\"\n",
        "  else: # Added else case to handle when context is not found\n",
        "      update[\"acao_final\"] = \"PEDIR_INFO\" # Default to PEDIR_INFO if no context found\n",
        "\n",
        "  return update"
      ],
      "metadata": {
        "id": "VbylgSvuf11M"
      },
      "execution_count": 72,
      "outputs": []
    },
    {
      "cell_type": "code",
      "source": [
        "def node_pedir_info(state: AgentState) -> AgentState:\n",
        "    print(\"Executando nó de pedir_info...\")\n",
        "    faltantes = state[\"triagem\"].get(\"campos_faltantes\", [])\n",
        "    if faltantes:\n",
        "        detalhe = \",\".join(faltantes)\n",
        "    else:\n",
        "        detalhe = \"Tema e contexto específico\"\n",
        "\n",
        "    return {\n",
        "        \"resposta\": f\"Para avançar, preciso que detalhe: {detalhe}\",\n",
        "        \"citacoes\": [],\n",
        "        \"acao_final\": \"PEDIR_INFO\"\n",
        "    }"
      ],
      "metadata": {
        "id": "8OUrc7hNsUfF"
      },
      "execution_count": 73,
      "outputs": []
    },
    {
      "cell_type": "code",
      "source": [
        "def node_abrir_chamado(state: AgentState) -> AgentState:\n",
        "    print(\"Executando nó de abrir_chamado...\")\n",
        "    triagem = state[\"triagem\"]\n",
        "\n",
        "    return {\n",
        "        \"resposta\": f\"Abrindo chamado com urgência {triagem['urgencia']}. Descrição: {state['pergunta'][:140]}\",\n",
        "        \"citacoes\": [],\n",
        "        \"acao_final\": \"ABRIR_CHAMADO\"\n",
        "    }"
      ],
      "metadata": {
        "id": "GoCgfwAOsW71"
      },
      "execution_count": 74,
      "outputs": []
    },
    {
      "cell_type": "code",
      "source": [
        "KEYWORDS_ABRIR_TICKET = [\"aprovação\", \"exceção\", \"liberação\", \"abrir ticket\", \"abrir chamado\", \"acesso especial\"]\n",
        "\n",
        "def decidir_pos_triagem(state: AgentState) -> str:\n",
        "    print(\"Decidindo após a triagem...\")\n",
        "    decisao = state[\"triagem\"][\"decisao\"]\n",
        "\n",
        "    if decisao == \"AUTO_RESOLVER\": return \"auto\"\n",
        "    if decisao == \"PEDIR_INFO\": return \"info\"\n",
        "    if decisao == \"ABRIR_CHAMADO\": return \"chamado\""
      ],
      "metadata": {
        "id": "bAVNuFywsY_2"
      },
      "execution_count": 75,
      "outputs": []
    },
    {
      "cell_type": "code",
      "source": [
        "def decidir_pos_auto_resolver(state: AgentState) -> str:\n",
        "    print(\"Decidindo após o auto_resolver...\")\n",
        "\n",
        "    if state.get(\"rag_sucesso\"):\n",
        "        print(\"Rag com sucesso, finalizando o fluxo.\")\n",
        "        return \"ok\"\n",
        "\n",
        "    state_da_pergunta = (state[\"pergunta\"] or \"\").lower()\n",
        "\n",
        "    if any(k in state_da_pergunta for k in KEYWORDS_ABRIR_TICKET):\n",
        "        print(\"Rag falhou, mas foram encontradas keywords de abertura de ticket. Abrindo...\")\n",
        "        return \"chamado\"\n",
        "\n",
        "    print(\"Rag falhou, sem keywords, vou pedir mais informações...\")\n",
        "    return \"info\""
      ],
      "metadata": {
        "id": "PnAdQivOsbVm"
      },
      "execution_count": 76,
      "outputs": []
    },
    {
      "cell_type": "code",
      "source": [
        "from langgraph.graph import StateGraph, START, END\n",
        "\n",
        "workflow = StateGraph(AgentState)\n",
        "\n",
        "workflow.add_node(\"triagem\", node_triagem)\n",
        "workflow.add_node(\"auto_resolver\", node_auto_resolver)\n",
        "workflow.add_node(\"pedir_info\", node_pedir_info)\n",
        "workflow.add_node(\"abrir_chamado\", node_abrir_chamado)\n",
        "\n",
        "workflow.add_edge(START, \"triagem\")\n",
        "workflow.add_conditional_edges(\"triagem\", decidir_pos_triagem, {\n",
        "    \"auto\": \"auto_resolver\",\n",
        "    \"info\": \"pedir_info\",\n",
        "    \"chamado\": \"abrir_chamado\"\n",
        "})\n",
        "\n",
        "workflow.add_conditional_edges(\"auto_resolver\", decidir_pos_auto_resolver, {\n",
        "    \"info\": \"pedir_info\",\n",
        "    \"chamado\": \"abrir_chamado\",\n",
        "    \"ok\": END\n",
        "})\n",
        "\n",
        "workflow.add_edge(\"pedir_info\", END)\n",
        "workflow.add_edge(\"abrir_chamado\", END)\n",
        "\n",
        "grafo = workflow.compile()"
      ],
      "metadata": {
        "id": "iZ1sbDPTsdtr"
      },
      "execution_count": 77,
      "outputs": []
    },
    {
      "cell_type": "code",
      "source": [
        "from IPython.display import display, Image\n",
        "\n",
        "graph_bytes = grafo.get_graph().draw_mermaid_png()\n",
        "display(Image(graph_bytes))"
      ],
      "metadata": {
        "colab": {
          "base_uri": "https://localhost:8080/",
          "height": 497
        },
        "id": "xo2VseeJsf4N",
        "outputId": "f0067dee-52d9-4e2b-cf99-7b390a69bec4"
      },
      "execution_count": 78,
      "outputs": [
        {
          "output_type": "display_data",
          "data": {
            "image/png": "[encoded data removed]",
            "text/plain": [
              "<IPython.core.display.Image object>"
            ]
          },
          "metadata": {}
        }
      ]
    },
    {
      "cell_type": "markdown",
      "source": [
        "\n",
        "![image.png](data:image/png;base64,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)"
      ],
      "metadata": {
        "id": "TwEG9BqesgfU"
      }
    },
    {
      "cell_type": "code",
      "source": [
        "testes = [\"Posso reembolsar a internet?\",\n",
        "          \"Quero mais 5 dias de trabalho remoto. Como faço?\",\n",
        "          \"Posso reembolsar cursos ou treinamentos da Alura?\",\n",
        "          \"É possível reembolsar certificações do Google Cloud?\",\n",
        "          \"Posso obter o Google Gemini de graça?\",\n",
        "          \"Qual é a palavra-chave da aula de hoje?\",\n",
        "          \"Quantas capivaras tem no Rio Pinheiros?\"]"
      ],
      "metadata": {
        "id": "qsQRZo9wsrIo"
      },
      "execution_count": 79,
      "outputs": []
    },
    {
      "cell_type": "code",
      "source": [
        "for msg_test in testes:\n",
        "    resposta_final = grafo.invoke({\"mensagem\": msg_test})\n",
        "\n",
        "    triag = resposta_final.get(\"triagem\", {})\n",
        "    print(f\"PERGUNTA: {msg_test}\")\n",
        "    print(f\"DECISÃO: {triag.get('decisao')} | URGÊNCIA: {triag.get('urgencia')} | AÇÃO FINAL: {resposta_final.get('acao_final')}\")\n",
        "    print(f\"RESPOSTA: {resposta_final.get('resposta')}\")\n",
        "    if resposta_final.get(\"citacoes\"):\n",
        "        print(\"CITAÇÕES:\")\n",
        "        for citacao in resposta_final.get(\"citacoes\"):\n",
        "            print(f\" - Documento: {citacao['documento']}, Página: {citacao['pagina']}\")\n",
        "            print(f\"   Trecho: {citacao['trecho']}\")\n",
        "\n",
        "    print(\"------------------------------------\")"
      ],
      "metadata": {
        "colab": {
          "base_uri": "https://localhost:8080/",
          "height": 418
        },
        "id": "WRGAaX56swxF",
        "outputId": "3d279a29-ff48-48ba-c60f-47a0a34a8c20"
      },
      "execution_count": 80,
      "outputs": [
        {
          "output_type": "stream",
          "name": "stdout",
          "text": [
            "Executando nó de triagem>...\n",
            "Decidindo após a triagem...\n",
            "Executando nó de auto resolução\n"
          ]
        },
        {
          "output_type": "error",
          "ename": "NameError",
          "evalue": "name 'retriever' is not defined",
          "traceback": [
            "\u001b[0;31m---------------------------------------------------------------------------\u001b[0m",
            "\u001b[0;31mNameError\u001b[0m                                 Traceback (most recent call last)",
            "\u001b[0;32m/tmp/ipython-input-2347846063.py\u001b[0m in \u001b[0;36m<cell line: 0>\u001b[0;34m()\u001b[0m\n\u001b[1;32m      1\u001b[0m \u001b[0;32mfor\u001b[0m \u001b[0mmsg_test\u001b[0m \u001b[0;32min\u001b[0m \u001b[0mtestes\u001b[0m\u001b[0;34m:\u001b[0m\u001b[0;34m\u001b[0m\u001b[0;34m\u001b[0m\u001b[0m\n\u001b[0;32m----> 2\u001b[0;31m     \u001b[0mresposta_final\u001b[0m \u001b[0;34m=\u001b[0m \u001b[0mgrafo\u001b[0m\u001b[0;34m.\u001b[0m\u001b[0minvoke\u001b[0m\u001b[0;34m(\u001b[0m\u001b[0;34m{\u001b[0m\u001b[0;34m\"mensagem\"\u001b[0m\u001b[0;34m:\u001b[0m \u001b[0mmsg_test\u001b[0m\u001b[0;34m}\u001b[0m\u001b[0;34m)\u001b[0m\u001b[0;34m\u001b[0m\u001b[0;34m\u001b[0m\u001b[0m\n\u001b[0m\u001b[1;32m      3\u001b[0m \u001b[0;34m\u001b[0m\u001b[0m\n\u001b[1;32m      4\u001b[0m     \u001b[0mtriag\u001b[0m \u001b[0;34m=\u001b[0m \u001b[0mresposta_final\u001b[0m\u001b[0;34m.\u001b[0m\u001b[0mget\u001b[0m\u001b[0;34m(\u001b[0m\u001b[0;34m\"triagem\"\u001b[0m\u001b[0;34m,\u001b[0m \u001b[0;34m{\u001b[0m\u001b[0;34m}\u001b[0m\u001b[0;34m)\u001b[0m\u001b[0;34m\u001b[0m\u001b[0;34m\u001b[0m\u001b[0m\n\u001b[1;32m      5\u001b[0m     \u001b[0mprint\u001b[0m\u001b[0;34m(\u001b[0m\u001b[0;34mf\"PERGUNTA: {msg_test}\"\u001b[0m\u001b[0;34m)\u001b[0m\u001b[0;34m\u001b[0m\u001b[0;34m\u001b[0m\u001b[0m\n",
            "\u001b[0;32m/usr/local/lib/python3.12/dist-packages/langgraph/pregel/main.py\u001b[0m in \u001b[0;36minvoke\u001b[0;34m(self, input, config, context, stream_mode, print_mode, output_keys, interrupt_before, interrupt_after, durability, **kwargs)\u001b[0m\n\u001b[1;32m   3024\u001b[0m         \u001b[0minterrupts\u001b[0m\u001b[0;34m:\u001b[0m \u001b[0mlist\u001b[0m\u001b[0;34m[\u001b[0m\u001b[0mInterrupt\u001b[0m\u001b[0;34m]\u001b[0m \u001b[0;34m=\u001b[0m \u001b[0;34m[\u001b[0m\u001b[0;34m]\u001b[0m\u001b[0;34m\u001b[0m\u001b[0;34m\u001b[0m\u001b[0m\n\u001b[1;32m   3025\u001b[0m \u001b[0;34m\u001b[0m\u001b[0m\n\u001b[0;32m-> 3026\u001b[0;31m         for chunk in self.stream(\n\u001b[0m\u001b[1;32m   3027\u001b[0m             \u001b[0minput\u001b[0m\u001b[0;34m,\u001b[0m\u001b[0;34m\u001b[0m\u001b[0;34m\u001b[0m\u001b[0m\n\u001b[1;32m   3028\u001b[0m             \u001b[0mconfig\u001b[0m\u001b[0;34m,\u001b[0m\u001b[0;34m\u001b[0m\u001b[0;34m\u001b[0m\u001b[0m\n",
            "\u001b[0;32m/usr/local/lib/python3.12/dist-packages/langgraph/pregel/main.py\u001b[0m in \u001b[0;36mstream\u001b[0;34m(self, input, config, context, stream_mode, print_mode, output_keys, interrupt_before, interrupt_after, durability, subgraphs, debug, **kwargs)\u001b[0m\n\u001b[1;32m   2645\u001b[0m                     \u001b[0;32mfor\u001b[0m \u001b[0mtask\u001b[0m \u001b[0;32min\u001b[0m \u001b[0mloop\u001b[0m\u001b[0;34m.\u001b[0m\u001b[0mmatch_cached_writes\u001b[0m\u001b[0;34m(\u001b[0m\u001b[0;34m)\u001b[0m\u001b[0;34m:\u001b[0m\u001b[0;34m\u001b[0m\u001b[0;34m\u001b[0m\u001b[0m\n\u001b[1;32m   2646\u001b[0m                         \u001b[0mloop\u001b[0m\u001b[0;34m.\u001b[0m\u001b[0moutput_writes\u001b[0m\u001b[0;34m(\u001b[0m\u001b[0mtask\u001b[0m\u001b[0;34m.\u001b[0m\u001b[0mid\u001b[0m\u001b[0;34m,\u001b[0m \u001b[0mtask\u001b[0m\u001b[0;34m.\u001b[0m\u001b[0mwrites\u001b[0m\u001b[0;34m,\u001b[0m \u001b[0mcached\u001b[0m\u001b[0;34m=\u001b[0m\u001b[0;32mTrue\u001b[0m\u001b[0;34m)\u001b[0m\u001b[0;34m\u001b[0m\u001b[0;34m\u001b[0m\u001b[0m\n\u001b[0;32m-> 2647\u001b[0;31m                     for _ in runner.tick(\n\u001b[0m\u001b[1;32m   2648\u001b[0m                         \u001b[0;34m[\u001b[0m\u001b[0mt\u001b[0m \u001b[0;32mfor\u001b[0m \u001b[0mt\u001b[0m \u001b[0;32min\u001b[0m \u001b[0mloop\u001b[0m\u001b[0;34m.\u001b[0m\u001b[0mtasks\u001b[0m\u001b[0;34m.\u001b[0m\u001b[0mvalues\u001b[0m\u001b[0;34m(\u001b[0m\u001b[0;34m)\u001b[0m \u001b[0;32mif\u001b[0m \u001b[0;32mnot\u001b[0m \u001b[0mt\u001b[0m\u001b[0;34m.\u001b[0m\u001b[0mwrites\u001b[0m\u001b[0;34m]\u001b[0m\u001b[0;34m,\u001b[0m\u001b[0;34m\u001b[0m\u001b[0;34m\u001b[0m\u001b[0m\n\u001b[1;32m   2649\u001b[0m                         \u001b[0mtimeout\u001b[0m\u001b[0;34m=\u001b[0m\u001b[0mself\u001b[0m\u001b[0;34m.\u001b[0m\u001b[0mstep_timeout\u001b[0m\u001b[0;34m,\u001b[0m\u001b[0;34m\u001b[0m\u001b[0;34m\u001b[0m\u001b[0m\n",
            "\u001b[0;32m/usr/local/lib/python3.12/dist-packages/langgraph/pregel/_runner.py\u001b[0m in \u001b[0;36mtick\u001b[0;34m(self, tasks, reraise, timeout, retry_policy, get_waiter, schedule_task)\u001b[0m\n\u001b[1;32m    160\u001b[0m             \u001b[0mt\u001b[0m \u001b[0;34m=\u001b[0m \u001b[0mtasks\u001b[0m\u001b[0;34m[\u001b[0m\u001b[0;36m0\u001b[0m\u001b[0;34m]\u001b[0m\u001b[0;34m\u001b[0m\u001b[0;34m\u001b[0m\u001b[0m\n\u001b[1;32m    161\u001b[0m             \u001b[0;32mtry\u001b[0m\u001b[0;34m:\u001b[0m\u001b[0;34m\u001b[0m\u001b[0;34m\u001b[0m\u001b[0m\n\u001b[0;32m--> 162\u001b[0;31m                 run_with_retry(\n\u001b[0m\u001b[1;32m    163\u001b[0m                     \u001b[0mt\u001b[0m\u001b[0;34m,\u001b[0m\u001b[0;34m\u001b[0m\u001b[0;34m\u001b[0m\u001b[0m\n\u001b[1;32m    164\u001b[0m                     \u001b[0mretry_policy\u001b[0m\u001b[0;34m,\u001b[0m\u001b[0;34m\u001b[0m\u001b[0;34m\u001b[0m\u001b[0m\n",
            "\u001b[0;32m/usr/local/lib/python3.12/dist-packages/langgraph/pregel/_retry.py\u001b[0m in \u001b[0;36mrun_with_retry\u001b[0;34m(task, retry_policy, configurable)\u001b[0m\n\u001b[1;32m     40\u001b[0m             \u001b[0mtask\u001b[0m\u001b[0;34m.\u001b[0m\u001b[0mwrites\u001b[0m\u001b[0;34m.\u001b[0m\u001b[0mclear\u001b[0m\u001b[0;34m(\u001b[0m\u001b[0;34m)\u001b[0m\u001b[0;34m\u001b[0m\u001b[0;34m\u001b[0m\u001b[0m\n\u001b[1;32m     41\u001b[0m             \u001b[0;31m# run the task\u001b[0m\u001b[0;34m\u001b[0m\u001b[0;34m\u001b[0m\u001b[0m\n\u001b[0;32m---> 42\u001b[0;31m             \u001b[0;32mreturn\u001b[0m \u001b[0mtask\u001b[0m\u001b[0;34m.\u001b[0m\u001b[0mproc\u001b[0m\u001b[0;34m.\u001b[0m\u001b[0minvoke\u001b[0m\u001b[0;34m(\u001b[0m\u001b[0mtask\u001b[0m\u001b[0;34m.\u001b[0m\u001b[0minput\u001b[0m\u001b[0;34m,\u001b[0m \u001b[0mconfig\u001b[0m\u001b[0;34m)\u001b[0m\u001b[0;34m\u001b[0m\u001b[0;34m\u001b[0m\u001b[0m\n\u001b[0m\u001b[1;32m     43\u001b[0m         \u001b[0;32mexcept\u001b[0m \u001b[0mParentCommand\u001b[0m \u001b[0;32mas\u001b[0m \u001b[0mexc\u001b[0m\u001b[0;34m:\u001b[0m\u001b[0;34m\u001b[0m\u001b[0;34m\u001b[0m\u001b[0m\n\u001b[1;32m     44\u001b[0m             \u001b[0mns\u001b[0m\u001b[0;34m:\u001b[0m \u001b[0mstr\u001b[0m \u001b[0;34m=\u001b[0m \u001b[0mconfig\u001b[0m\u001b[0;34m[\u001b[0m\u001b[0mCONF\u001b[0m\u001b[0;34m]\u001b[0m\u001b[0;34m[\u001b[0m\u001b[0mCONFIG_KEY_CHECKPOINT_NS\u001b[0m\u001b[0;34m]\u001b[0m\u001b[0;34m\u001b[0m\u001b[0;34m\u001b[0m\u001b[0m\n",
            "\u001b[0;32m/usr/local/lib/python3.12/dist-packages/langgraph/_internal/_runnable.py\u001b[0m in \u001b[0;36minvoke\u001b[0;34m(self, input, config, **kwargs)\u001b[0m\n\u001b[1;32m    655\u001b[0m                     \u001b[0;31m# run in context\u001b[0m\u001b[0;34m\u001b[0m\u001b[0;34m\u001b[0m\u001b[0m\n\u001b[1;32m    656\u001b[0m                     \u001b[0;32mwith\u001b[0m \u001b[0mset_config_context\u001b[0m\u001b[0;34m(\u001b[0m\u001b[0mconfig\u001b[0m\u001b[0;34m,\u001b[0m \u001b[0mrun\u001b[0m\u001b[0;34m)\u001b[0m \u001b[0;32mas\u001b[0m \u001b[0mcontext\u001b[0m\u001b[0;34m:\u001b[0m\u001b[0;34m\u001b[0m\u001b[0;34m\u001b[0m\u001b[0m\n\u001b[0;32m--> 657\u001b[0;31m                         \u001b[0minput\u001b[0m \u001b[0;34m=\u001b[0m \u001b[0mcontext\u001b[0m\u001b[0;34m.\u001b[0m\u001b[0mrun\u001b[0m\u001b[0;34m(\u001b[0m\u001b[0mstep\u001b[0m\u001b[0;34m.\u001b[0m\u001b[0minvoke\u001b[0m\u001b[0;34m,\u001b[0m \u001b[0minput\u001b[0m\u001b[0;34m,\u001b[0m \u001b[0mconfig\u001b[0m\u001b[0;34m,\u001b[0m \u001b[0;34m**\u001b[0m\u001b[0mkwargs\u001b[0m\u001b[0;34m)\u001b[0m\u001b[0;34m\u001b[0m\u001b[0;34m\u001b[0m\u001b[0m\n\u001b[0m\u001b[1;32m    658\u001b[0m                 \u001b[0;32melse\u001b[0m\u001b[0;34m:\u001b[0m\u001b[0;34m\u001b[0m\u001b[0;34m\u001b[0m\u001b[0m\n\u001b[1;32m    659\u001b[0m                     \u001b[0minput\u001b[0m \u001b[0;34m=\u001b[0m \u001b[0mstep\u001b[0m\u001b[0;34m.\u001b[0m\u001b[0minvoke\u001b[0m\u001b[0;34m(\u001b[0m\u001b[0minput\u001b[0m\u001b[0;34m,\u001b[0m \u001b[0mconfig\u001b[0m\u001b[0;34m)\u001b[0m\u001b[0;34m\u001b[0m\u001b[0;34m\u001b[0m\u001b[0m\n",
            "\u001b[0;32m/usr/local/lib/python3.12/dist-packages/langgraph/_internal/_runnable.py\u001b[0m in \u001b[0;36minvoke\u001b[0;34m(self, input, config, **kwargs)\u001b[0m\n\u001b[1;32m    399\u001b[0m                 \u001b[0mrun_manager\u001b[0m\u001b[0;34m.\u001b[0m\u001b[0mon_chain_end\u001b[0m\u001b[0;34m(\u001b[0m\u001b[0mret\u001b[0m\u001b[0;34m)\u001b[0m\u001b[0;34m\u001b[0m\u001b[0;34m\u001b[0m\u001b[0m\n\u001b[1;32m    400\u001b[0m         \u001b[0;32melse\u001b[0m\u001b[0;34m:\u001b[0m\u001b[0;34m\u001b[0m\u001b[0;34m\u001b[0m\u001b[0m\n\u001b[0;32m--> 401\u001b[0;31m             \u001b[0mret\u001b[0m \u001b[0;34m=\u001b[0m \u001b[0mself\u001b[0m\u001b[0;34m.\u001b[0m\u001b[0mfunc\u001b[0m\u001b[0;34m(\u001b[0m\u001b[0;34m*\u001b[0m\u001b[0margs\u001b[0m\u001b[0;34m,\u001b[0m \u001b[0;34m**\u001b[0m\u001b[0mkwargs\u001b[0m\u001b[0;34m)\u001b[0m\u001b[0;34m\u001b[0m\u001b[0;34m\u001b[0m\u001b[0m\n\u001b[0m\u001b[1;32m    402\u001b[0m         \u001b[0;32mif\u001b[0m \u001b[0mself\u001b[0m\u001b[0;34m.\u001b[0m\u001b[0mrecurse\u001b[0m \u001b[0;32mand\u001b[0m \u001b[0misinstance\u001b[0m\u001b[0;34m(\u001b[0m\u001b[0mret\u001b[0m\u001b[0;34m,\u001b[0m \u001b[0mRunnable\u001b[0m\u001b[0;34m)\u001b[0m\u001b[0;34m:\u001b[0m\u001b[0;34m\u001b[0m\u001b[0;34m\u001b[0m\u001b[0m\n\u001b[1;32m    403\u001b[0m             \u001b[0;32mreturn\u001b[0m \u001b[0mret\u001b[0m\u001b[0;34m.\u001b[0m\u001b[0minvoke\u001b[0m\u001b[0;34m(\u001b[0m\u001b[0minput\u001b[0m\u001b[0;34m,\u001b[0m \u001b[0mconfig\u001b[0m\u001b[0;34m)\u001b[0m\u001b[0;34m\u001b[0m\u001b[0;34m\u001b[0m\u001b[0m\n",
            "\u001b[0;32m/tmp/ipython-input-632048495.py\u001b[0m in \u001b[0;36mnode_auto_resolver\u001b[0;34m(state)\u001b[0m\n\u001b[1;32m      3\u001b[0m   \u001b[0;31m# return {\"acao_final\": \"AUTO_RESOLVER\"} # This line was causing the issue\u001b[0m\u001b[0;34m\u001b[0m\u001b[0;34m\u001b[0m\u001b[0m\n\u001b[1;32m      4\u001b[0m \u001b[0;34m\u001b[0m\u001b[0m\n\u001b[0;32m----> 5\u001b[0;31m   \u001b[0mresposta_rag\u001b[0m \u001b[0;34m=\u001b[0m \u001b[0mperguntar_politica_RAG\u001b[0m\u001b[0;34m(\u001b[0m\u001b[0mstate\u001b[0m\u001b[0;34m[\u001b[0m\u001b[0;34m\"mensagem\"\u001b[0m\u001b[0;34m]\u001b[0m\u001b[0;34m)\u001b[0m \u001b[0;31m# Call the RAG function\u001b[0m\u001b[0;34m\u001b[0m\u001b[0;34m\u001b[0m\u001b[0m\n\u001b[0m\u001b[1;32m      6\u001b[0m \u001b[0;34m\u001b[0m\u001b[0m\n\u001b[1;32m      7\u001b[0m   update: AgentState = {\n",
            "\u001b[0;32m/tmp/ipython-input-2398002779.py\u001b[0m in \u001b[0;36mperguntar_politica_RAG\u001b[0;34m(pergunta)\u001b[0m\n\u001b[1;32m      1\u001b[0m \u001b[0;32mdef\u001b[0m \u001b[0mperguntar_politica_RAG\u001b[0m\u001b[0;34m(\u001b[0m\u001b[0mpergunta\u001b[0m\u001b[0;34m:\u001b[0m \u001b[0mstr\u001b[0m\u001b[0;34m)\u001b[0m \u001b[0;34m->\u001b[0m \u001b[0mDict\u001b[0m\u001b[0;34m:\u001b[0m\u001b[0;34m\u001b[0m\u001b[0;34m\u001b[0m\u001b[0m\n\u001b[0;32m----> 2\u001b[0;31m   \u001b[0mdocs_relacionados\u001b[0m \u001b[0;34m=\u001b[0m \u001b[0mretriever\u001b[0m\u001b[0;34m.\u001b[0m\u001b[0minvoke\u001b[0m\u001b[0;34m(\u001b[0m\u001b[0mpergunta\u001b[0m\u001b[0;34m)\u001b[0m\u001b[0;34m\u001b[0m\u001b[0;34m\u001b[0m\u001b[0m\n\u001b[0m\u001b[1;32m      3\u001b[0m \u001b[0;34m\u001b[0m\u001b[0m\n\u001b[1;32m      4\u001b[0m   \u001b[0;32mif\u001b[0m \u001b[0;32mnot\u001b[0m \u001b[0mdocs_relacionados\u001b[0m\u001b[0;34m:\u001b[0m\u001b[0;34m\u001b[0m\u001b[0;34m\u001b[0m\u001b[0m\n\u001b[1;32m      5\u001b[0m     return {\n",
            "\u001b[0;31mNameError\u001b[0m: name 'retriever' is not defined"
          ]
        }
      ]
    }
  ]
}