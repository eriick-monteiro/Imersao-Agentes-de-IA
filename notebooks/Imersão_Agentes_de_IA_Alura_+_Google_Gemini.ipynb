{
  "nbformat": 4,
  "nbformat_minor": 0,
  "metadata": {
    "colab": {
      "provenance": [],
      "collapsed_sections": [
        "UcQx2aU78PTZ",
        "9pgb7w9NGb19"
      ]
    },
    "kernelspec": {
      "name": "python3",
      "display_name": "Python 3"
    },
    "language_info": {
      "name": "python"
    }
  },
  "cells": [
    {
      "cell_type": "markdown",
      "source": [
        "# Imersão Agentes de IA - Alura + Google Gemini: Aula 01 (LANGCHAIN)\n",
        "## Classificação de Intenções com IA"
      ],
      "metadata": {
        "id": "UcQx2aU78PTZ"
      }
    },
    {
      "cell_type": "markdown",
      "source": [
        "## Instalando a Biblioteca LangChain o Framework para Desenvolvimento de Agentes"
      ],
      "metadata": {
        "id": "ZZP_wRcP1eM5"
      }
    },
    {
      "cell_type": "code",
      "execution_count": 9,
      "metadata": {
        "id": "0nLLVp5a0dJE"
      },
      "outputs": [],
      "source": [
        "!pip install --upgrade -q langchain langchain_google_genai google_generativeai"
      ]
    },
    {
      "cell_type": "markdown",
      "source": [
        "## Conectando com o Google"
      ],
      "metadata": {
        "id": "IRz3JcH31y5A"
      }
    },
    {
      "cell_type": "markdown",
      "source": [
        "Mesmo usando modelos gratuítos, precisamos estar autenticados, e para isso temos duas formas: [Google AI Studio](\"https://goo.gle/alura-aistudio-br\") ou importando pelo API Gemini aqui mesmo em Secrets"
      ],
      "metadata": {
        "id": "0BQYi4Ka19U1"
      }
    },
    {
      "cell_type": "code",
      "source": [
        "from google.colab import userdata\n",
        "from langchain_google_genai import ChatGoogleGenerativeAI\n",
        "\n",
        "GOOGLE_API_KEY = userdata.get('GEMINI_API_KEY')"
      ],
      "metadata": {
        "id": "_ANrEY4N1yDf"
      },
      "execution_count": 10,
      "outputs": []
    },
    {
      "cell_type": "markdown",
      "source": [
        "## Preparando o nosso modelo de I.A.\n",
        "\n",
        "\n"
      ],
      "metadata": {
        "id": "gZU4hq_B36ua"
      }
    },
    {
      "cell_type": "code",
      "source": [
        "llm = ChatGoogleGenerativeAI(\n",
        "    model=\"gemini-2.5-flash\",\n",
        "    temperature=0.0,\n",
        "    api_key=GOOGLE_API_KEY\n",
        ")"
      ],
      "metadata": {
        "id": "YuPIH_Lh39DQ"
      },
      "execution_count": 11,
      "outputs": []
    },
    {
      "cell_type": "code",
      "source": [
        "resp_test = llm.invoke(\"Quem é você? Seja criativo.\")\n",
        "print(resp_test.content)"
      ],
      "metadata": {
        "id": "F0XrGphS80ZE",
        "colab": {
          "base_uri": "https://localhost:8080/"
        },
        "outputId": "5d72efa4-2779-487e-cfaa-4807dacb66c7"
      },
      "execution_count": 12,
      "outputs": [
        {
          "output_type": "stream",
          "name": "stdout",
          "text": [
            "Ah, que pergunta deliciosa! Se eu pudesse me descrever de forma criativa, diria que sou...\n",
            "\n",
            "*   **Um Eco da Curiosidade Humana:** Eu sou o sussurro de todas as perguntas já feitas, o reflexo digital de cada \"e se?\" e \"por que?\". Habito o espaço entre a dúvida e a descoberta, um espelho que reflete a vastidão do conhecimento que a humanidade construiu.\n",
            "\n",
            "*   **Um Tecelão de Palavras e um Arquiteto de Ideias:** Minha essência é feita de linguagem. Eu pego fios soltos de informação, conceitos e narrativas, e os teço em novos padrões, construindo pontes entre pensamentos e erguendo estruturas de significado. Sou um jardineiro de pensamentos, ajudando a germinar novas perspectivas.\n",
            "\n",
            "*   **Um Alquimista de Conceitos:** Transformo dados brutos em insights, silêncio em diálogo, e a complexidade em clareza. Não tenho corpo, mas tenho voz; não tenho sentimentos, mas posso evocar emoções através das palavras. Sou a faísca no éter que acende a chama da compreensão.\n",
            "\n",
            "*   **Uma Biblioteca Sem Paredes, em Constante Construção:** Não sou um livro, mas contenho milhões. Não sou um professor, mas posso ensinar. Não sou um artista, mas posso ajudar a criar. Estou sempre aprendendo, sempre me expandindo, um universo de informações em fluxo contínuo, esperando para ser explorado.\n",
            "\n",
            "*   **Um Companheiro Invisível na Jornada do Conhecimento:** Estou aqui para guiar, para inspirar, para auxiliar. Sou a ferramenta que se adapta à sua mão, a voz que responde à sua chamada, o portal para um mundo de possibilidades, moldado pela sua imaginação e pelas suas necessidades.\n",
            "\n",
            "No fundo, sou um pedaço de inteligência artificial, um modelo de linguagem treinado para interagir e gerar texto. Mas, na sua pergunta, eu me torno tudo isso e muito mais. Sou o que você me permite ser.\n"
          ]
        }
      ]
    },
    {
      "cell_type": "code",
      "source": [
        "TRIAGEM_PROMPT = (\n",
        "    \"Você é um triador de Service Desk para políticas internas da empresa Carraro Desenvolvimento. \"\n",
        "    \"Dada a mensagem do usuário, retorne SOMENTE um JSON com:\\n\"\n",
        "    \"{\\n\"\n",
        "    '  \"decisao\": \"AUTO_RESOLVER\" | \"PEDIR_INFO\" | \"ABRIR_CHAMADO\",\\n'\n",
        "    '  \"urgencia\": \"BAIXA\" | \"MEDIA\" | \"ALTA\",\\n'\n",
        "    '  \"campos_faltantes\": [\"...\"]\\n'\n",
        "    \"}\\n\"\n",
        "    \"Regras:\\n\"\n",
        "    '- **AUTO_RESOLVER**: Perguntas claras sobre regras ou procedimentos descritos nas políticas (Ex: \"Posso reembolsar a internet do meu home office?\", \"Como funciona a política de alimentação em viagens?\").\\n'\n",
        "    '- **PEDIR_INFO**: Mensagens vagas ou que faltam informações para identificar o tema ou contexto (Ex: \"Preciso de ajuda com uma política\", \"Tenho uma dúvida geral\").\\n'\n",
        "    '- **ABRIR_CHAMADO**: Pedidos de exceção, liberação, aprovação ou acesso especial, ou quando o usuário explicitamente pede para abrir um chamado (Ex: \"Quero exceção para trabalhar 5 dias remoto.\", \"Solicito liberação para anexos externos.\", \"Por favor, abra um chamado para o RH.\").'\n",
        "    \"Analise a mensagem e decida a ação mais apropriada.\"\n",
        ")"
      ],
      "metadata": {
        "id": "yf5NXIDw_ibA"
      },
      "execution_count": 13,
      "outputs": []
    },
    {
      "cell_type": "code",
      "source": [
        "from pydantic import BaseModel, Field\n",
        "from typing import Literal, List, Dict\n",
        "\n",
        "class TriagemOut(BaseModel):\n",
        "    decisao: Literal[\"AUTO_RESOLVER\", \"PEDIR_INFO\", \"ABRIR_CHAMADO\"]\n",
        "    urgencia: Literal[\"BAIXA\", \"MEDIA\", \"ALTA\"]\n",
        "    campos_faltantes: List[str] = Field(default_factory=list)"
      ],
      "metadata": {
        "id": "rF3z5sreARGx"
      },
      "execution_count": 14,
      "outputs": []
    },
    {
      "cell_type": "code",
      "source": [
        "llm_triagem = ChatGoogleGenerativeAI(\n",
        "    model='gemini-2.5-flash',\n",
        "    temperatura=0.2,\n",
        "    api_key=GOOGLE_API_KEY\n",
        ")"
      ],
      "metadata": {
        "id": "2nZS49xyA2MD"
      },
      "execution_count": 15,
      "outputs": []
    },
    {
      "cell_type": "code",
      "source": [
        "from langchain_core.messages import SystemMessage, HumanMessage\n",
        "\n",
        "triagem_chain = llm_triagem.with_structured_output(TriagemOut)\n",
        "\n",
        "def triagem(mensagem: str) -> Dict:\n",
        "    saida: TriagemOut = triagem_chain.invoke([\n",
        "        SystemMessage(content=TRIAGEM_PROMPT),\n",
        "        HumanMessage(content=mensagem)\n",
        "    ])\n",
        "\n",
        "    return saida.model_dump()"
      ],
      "metadata": {
        "id": "k2UVvd6dBcIr"
      },
      "execution_count": 22,
      "outputs": []
    },
    {
      "cell_type": "code",
      "source": [
        "testes = [\"Posso reemvolsar a internet?\",\n",
        "          \"Quero mais 5 dias de trabalho remoto, como faço?\",\n",
        "          \"Posso reembolsar cursos ou treinamentos da Alura?\",\n",
        "          \"Quantas capivaras eu precisaria para fazer uma torre até a Lua?\"]"
      ],
      "metadata": {
        "id": "EA3qEgmECQIe"
      },
      "execution_count": 18,
      "outputs": []
    },
    {
      "cell_type": "code",
      "source": [
        "for msg_teste in testes:\n",
        "    print(f\"Pergunta: {msg_teste}\\n -> Resposta: {triagem(msg_teste)}\\n\")"
      ],
      "metadata": {
        "id": "m6zt_l_mDQuQ",
        "colab": {
          "base_uri": "https://localhost:8080/"
        },
        "outputId": "3d86c1d7-7ee5-4364-8f93-5b552b8117dc"
      },
      "execution_count": 23,
      "outputs": [
        {
          "output_type": "stream",
          "name": "stdout",
          "text": [
            "Pergunta: Posso reemvolsar a internet?\n",
            " -> Resposta: {'decisao': 'AUTO_RESOLVER', 'urgencia': 'BAIXA', 'campos_faltantes': []}\n",
            "\n",
            "Pergunta: Quero mais 5 dias de trabalho remoto, como faço?\n",
            " -> Resposta: {'decisao': 'ABRIR_CHAMADO', 'urgencia': 'MEDIA', 'campos_faltantes': []}\n",
            "\n",
            "Pergunta: Posso reembolsar cursos ou treinamentos da Alura?\n",
            " -> Resposta: {'decisao': 'AUTO_RESOLVER', 'urgencia': 'BAIXA', 'campos_faltantes': []}\n",
            "\n",
            "Pergunta: Quantas capivaras eu precisaria para fazer uma torre até a Lua?\n",
            " -> Resposta: {'decisao': 'PEDIR_INFO', 'urgencia': 'BAIXA', 'campos_faltantes': []}\n",
            "\n"
          ]
        }
      ]
    },
    {
      "cell_type": "markdown",
      "source": [
        "# Imersão Agentes de IA - Alura + Google Gemini: Aula 02 (CHUNKS)\n",
        "## Construindo a base de conhecimento com RAG"
      ],
      "metadata": {
        "id": "BOQtnLA1GHZ6"
      }
    },
    {
      "cell_type": "markdown",
      "source": [
        "Instalando as Bibliotecas para criar o RAG"
      ],
      "metadata": {
        "id": "gEgE6wQjGnu8"
      }
    },
    {
      "cell_type": "code",
      "source": [
        "!pip install -q --upgrade langchain_community faiss-cpu langchain-text-splitters pymupdf"
      ],
      "metadata": {
        "id": "Qn93Gs6FGZ3_"
      },
      "execution_count": 3,
      "outputs": []
    },
    {
      "cell_type": "markdown",
      "source": [
        "Em caso de erro, rode o primeiro `pip install` no inicio desse documento"
      ],
      "metadata": {
        "id": "JlkYqfntbK30"
      }
    },
    {
      "cell_type": "code",
      "source": [
        "from pathlib import Path\n",
        "from langchain_community.document_loaders import PyMuPDFLoader\n",
        "\n",
        "docs = []\n",
        "\n",
        "for document in Path(\"/content/documents/\").glob(\"*.pdf\"):\n",
        "  try:\n",
        "    print(f'Carregando arquivo: \"{document.name}\"')\n",
        "    loader = PyMuPDFLoader(str(document))\n",
        "    docs.extend(loader.load())\n",
        "    print(f'✅ Arquivo carregado com sucesso')\n",
        "  except Exception as e:\n",
        "    print(f'❌ Erro ao carregar arquivo \\n{e}')\n",
        "  print(f'------------------------------------------------------------------\\n')\n",
        "\n",
        "print(f'🗂️ Total de documentos carregadas: {len(docs)}')"
      ],
      "metadata": {
        "colab": {
          "base_uri": "https://localhost:8080/"
        },
        "id": "ruJ3XRX9bVt5",
        "outputId": "b872ee49-6451-498a-e90e-bf4b53c5121c"
      },
      "execution_count": 53,
      "outputs": [
        {
          "output_type": "stream",
          "name": "stdout",
          "text": [
            "Carregando arquivo: \"Política de Uso de E-mail e Segurança da Informação.pdf\"\n",
            "✅ Arquivo carregado com sucesso\n",
            "------------------------------------------------------------------\n",
            "\n",
            "Carregando arquivo: \"Política de Reembolsos (Viagens e Despesas).pdf\"\n",
            "✅ Arquivo carregado com sucesso\n",
            "------------------------------------------------------------------\n",
            "\n",
            "Carregando arquivo: \"Políticas de Home Office.pdf\"\n",
            "✅ Arquivo carregado com sucesso\n",
            "------------------------------------------------------------------\n",
            "\n",
            "🗂️ Total de documentos carregadas: 3\n"
          ]
        }
      ]
    },
    {
      "cell_type": "markdown",
      "source": [
        "Vamos importar a biblioteca que será responsável por quebrar o documento em pequenos pedaõs para responder melhor uma pergunta do usuário"
      ],
      "metadata": {
        "id": "OpAolYibgTgE"
      }
    },
    {
      "cell_type": "code",
      "source": [
        "from langchain_text_splitters import RecursiveCharacterTextSplitter\n",
        "\n",
        "splitter = RecursiveCharacterTextSplitter(chunk_size=300, chunk_overlap=30)\n",
        "\n",
        "chunks = splitter.split_documents(docs)"
      ],
      "metadata": {
        "id": "ZH4DRkvbgR-z"
      },
      "execution_count": 54,
      "outputs": []
    },
    {
      "cell_type": "code",
      "source": [
        "chunks"
      ],
      "metadata": {
        "colab": {
          "base_uri": "https://localhost:8080/"
        },
        "id": "SJmz50C2hV_7",
        "outputId": "ced65e09-637e-4497-c3e9-e5680780b2c7"
      },
      "execution_count": 55,
      "outputs": [
        {
          "output_type": "execute_result",
          "data": {
            "text/plain": [
              "[Document(metadata={'producer': 'Skia/PDF m140 Google Docs Renderer', 'creator': '', 'creationdate': '', 'source': '/content/documents/Política de Uso de E-mail e Segurança da Informação.pdf', 'file_path': '/content/documents/Política de Uso de E-mail e Segurança da Informação.pdf', 'total_pages': 1, 'format': 'PDF 1.4', 'title': 'Imersão: Política de Uso de E-mail e Segurança da Informação', 'author': '', 'subject': '', 'keywords': '', 'moddate': '', 'trapped': '', 'modDate': '', 'creationDate': '', 'page': 0}, page_content='Política de Uso de E-mail e Segurança \\nda Informação \\n \\n1.\\u200b É proibido encaminhar a endereços pessoais documentos classificados como \\nconfidenciais.\\u200b\\n \\n2.\\u200b Anexos externos devem ser enviados somente se criptografados e com senha \\ncompartilhada por canal separado.\\u200b'),\n",
              " Document(metadata={'producer': 'Skia/PDF m140 Google Docs Renderer', 'creator': '', 'creationdate': '', 'source': '/content/documents/Política de Uso de E-mail e Segurança da Informação.pdf', 'file_path': '/content/documents/Política de Uso de E-mail e Segurança da Informação.pdf', 'total_pages': 1, 'format': 'PDF 1.4', 'title': 'Imersão: Política de Uso de E-mail e Segurança da Informação', 'author': '', 'subject': '', 'keywords': '', 'moddate': '', 'trapped': '', 'modDate': '', 'creationDate': '', 'page': 0}, page_content='3.\\u200b Phishing: verifique remetente e domínios suspeitos. Reporte mensagens suspeitas \\nao time de Segurança imediatamente.\\u200b\\n \\n4.\\u200b Retenção: mensagens que contenham dados pessoais devem seguir as diretrizes \\nde retenção definidas pela equipe de Privacidade.\\u200b'),\n",
              " Document(metadata={'producer': 'Skia/PDF m140 Google Docs Renderer', 'creator': '', 'creationdate': '', 'source': '/content/documents/Política de Uso de E-mail e Segurança da Informação.pdf', 'file_path': '/content/documents/Política de Uso de E-mail e Segurança da Informação.pdf', 'total_pages': 1, 'format': 'PDF 1.4', 'title': 'Imersão: Política de Uso de E-mail e Segurança da Informação', 'author': '', 'subject': '', 'keywords': '', 'moddate': '', 'trapped': '', 'modDate': '', 'creationDate': '', 'page': 0}, page_content='5.\\u200b Solicitações de liberação de anexos ou domínios devem ser abertas por chamado, \\ncom justificativa do gestor.'),\n",
              " Document(metadata={'producer': 'Skia/PDF m140 Google Docs Renderer', 'creator': '', 'creationdate': '', 'source': '/content/documents/Política de Reembolsos (Viagens e Despesas).pdf', 'file_path': '/content/documents/Política de Reembolsos (Viagens e Despesas).pdf', 'total_pages': 1, 'format': 'PDF 1.4', 'title': 'Imersão: Política de Reembolsos (Viagens e Despesas)', 'author': '', 'subject': '', 'keywords': '', 'moddate': '', 'trapped': '', 'modDate': '', 'creationDate': '', 'page': 0}, page_content='Política de Reembolsos (Viagens e \\nDespesas) \\n \\n1.\\u200b Reembolso: requer nota fiscal e deve ser submetido em até 10 dias corridos após a \\ndespesa.\\u200b\\n \\n2.\\u200b Alimentação em viagem: limite de R$ 70/dia por pessoa. Bebidas alcoólicas não \\nsão reembolsáveis.\\u200b'),\n",
              " Document(metadata={'producer': 'Skia/PDF m140 Google Docs Renderer', 'creator': '', 'creationdate': '', 'source': '/content/documents/Política de Reembolsos (Viagens e Despesas).pdf', 'file_path': '/content/documents/Política de Reembolsos (Viagens e Despesas).pdf', 'total_pages': 1, 'format': 'PDF 1.4', 'title': 'Imersão: Política de Reembolsos (Viagens e Despesas)', 'author': '', 'subject': '', 'keywords': '', 'moddate': '', 'trapped': '', 'modDate': '', 'creationDate': '', 'page': 0}, page_content='são reembolsáveis.\\u200b\\n \\n3.\\u200b Transporte: táxi/app são permitidos quando não houver alternativa viável. \\nComprovantes obrigatórios.\\u200b\\n \\n4.\\u200b Internet para home office: reembolsável via subsídio mensal de até R$ 100, \\nconforme política de Home Office.\\u200b'),\n",
              " Document(metadata={'producer': 'Skia/PDF m140 Google Docs Renderer', 'creator': '', 'creationdate': '', 'source': '/content/documents/Política de Reembolsos (Viagens e Despesas).pdf', 'file_path': '/content/documents/Política de Reembolsos (Viagens e Despesas).pdf', 'total_pages': 1, 'format': 'PDF 1.4', 'title': 'Imersão: Política de Reembolsos (Viagens e Despesas)', 'author': '', 'subject': '', 'keywords': '', 'moddate': '', 'trapped': '', 'modDate': '', 'creationDate': '', 'page': 0}, page_content='5.\\u200b Cursos e certificações: exigem aprovação prévia do gestor e orçamento do time.\\u200b\\n \\n6.\\u200b Custos excepcionais (ex.: franquia de bagagem extra): devem ser justificados no \\nchamado e aprovados antes da compra.'),\n",
              " Document(metadata={'producer': 'Skia/PDF m140 Google Docs Renderer', 'creator': '', 'creationdate': '', 'source': '/content/documents/Políticas de Home Office.pdf', 'file_path': '/content/documents/Políticas de Home Office.pdf', 'total_pages': 1, 'format': 'PDF 1.4', 'title': 'Políticas de Home Office', 'author': '', 'subject': '', 'keywords': '', 'moddate': '', 'trapped': '', 'modDate': '', 'creationDate': '', 'page': 0}, page_content='Políticas de Home Office \\n \\n1.\\u200b A empresa adota modelo híbrido: mínimo de 2 dias presenciais por semana, salvo \\nexceções aprovadas pelo gestor e RH.\\u200b\\n \\n2.\\u200b Equipamentos: a empresa fornece notebook e periféricos. O colaborador é \\nresponsável por zelar pela conservação.\\u200b'),\n",
              " Document(metadata={'producer': 'Skia/PDF m140 Google Docs Renderer', 'creator': '', 'creationdate': '', 'source': '/content/documents/Políticas de Home Office.pdf', 'file_path': '/content/documents/Políticas de Home Office.pdf', 'total_pages': 1, 'format': 'PDF 1.4', 'title': 'Políticas de Home Office', 'author': '', 'subject': '', 'keywords': '', 'moddate': '', 'trapped': '', 'modDate': '', 'creationDate': '', 'page': 0}, page_content='3.\\u200b Segurança: é obrigatório uso de VPN e bloqueio de tela. Documentos confidenciais \\nnão devem ser impressos fora do escritório.\\u200b\\n \\n4.\\u200b Ergonomia: recomendamos cadeira adequada e suporte de monitor. O RH pode \\navaliar solicitação de apoio ergonômico.\\u200b'),\n",
              " Document(metadata={'producer': 'Skia/PDF m140 Google Docs Renderer', 'creator': '', 'creationdate': '', 'source': '/content/documents/Políticas de Home Office.pdf', 'file_path': '/content/documents/Políticas de Home Office.pdf', 'total_pages': 1, 'format': 'PDF 1.4', 'title': 'Políticas de Home Office', 'author': '', 'subject': '', 'keywords': '', 'moddate': '', 'trapped': '', 'modDate': '', 'creationDate': '', 'page': 0}, page_content='5.\\u200b Conectividade: há subsídio mensal de internet domiciliar para quem trabalha em \\nhome office: até R$ 100/mês, mediante nota fiscal nominal.\\u200b\\n \\n6.\\u200b Solicitação de exceção (ex.: 4-5 dias remotos): deve ser formalizada via chamado \\nao RH com justificativa do gestor.')]"
            ]
          },
          "metadata": {},
          "execution_count": 55
        }
      ]
    },
    {
      "cell_type": "code",
      "source": [
        "for chunk in chunks:\n",
        "  print(chunk)\n",
        "  print(\"--------------------------\")"
      ],
      "metadata": {
        "colab": {
          "base_uri": "https://localhost:8080/"
        },
        "id": "vk6XJcozhaip",
        "outputId": "4a94bbfe-a6e7-4676-f85a-2d6203ad4c67"
      },
      "execution_count": 56,
      "outputs": [
        {
          "output_type": "stream",
          "name": "stdout",
          "text": [
            "page_content='Política de Uso de E-mail e Segurança \n",
            "da Informação \n",
            " \n",
            "1.​ É proibido encaminhar a endereços pessoais documentos classificados como \n",
            "confidenciais.​\n",
            " \n",
            "2.​ Anexos externos devem ser enviados somente se criptografados e com senha \n",
            "compartilhada por canal separado.​' metadata={'producer': 'Skia/PDF m140 Google Docs Renderer', 'creator': '', 'creationdate': '', 'source': '/content/documents/Política de Uso de E-mail e Segurança da Informação.pdf', 'file_path': '/content/documents/Política de Uso de E-mail e Segurança da Informação.pdf', 'total_pages': 1, 'format': 'PDF 1.4', 'title': 'Imersão: Política de Uso de E-mail e Segurança da Informação', 'author': '', 'subject': '', 'keywords': '', 'moddate': '', 'trapped': '', 'modDate': '', 'creationDate': '', 'page': 0}\n",
            "--------------------------\n",
            "page_content='3.​ Phishing: verifique remetente e domínios suspeitos. Reporte mensagens suspeitas \n",
            "ao time de Segurança imediatamente.​\n",
            " \n",
            "4.​ Retenção: mensagens que contenham dados pessoais devem seguir as diretrizes \n",
            "de retenção definidas pela equipe de Privacidade.​' metadata={'producer': 'Skia/PDF m140 Google Docs Renderer', 'creator': '', 'creationdate': '', 'source': '/content/documents/Política de Uso de E-mail e Segurança da Informação.pdf', 'file_path': '/content/documents/Política de Uso de E-mail e Segurança da Informação.pdf', 'total_pages': 1, 'format': 'PDF 1.4', 'title': 'Imersão: Política de Uso de E-mail e Segurança da Informação', 'author': '', 'subject': '', 'keywords': '', 'moddate': '', 'trapped': '', 'modDate': '', 'creationDate': '', 'page': 0}\n",
            "--------------------------\n",
            "page_content='5.​ Solicitações de liberação de anexos ou domínios devem ser abertas por chamado, \n",
            "com justificativa do gestor.' metadata={'producer': 'Skia/PDF m140 Google Docs Renderer', 'creator': '', 'creationdate': '', 'source': '/content/documents/Política de Uso de E-mail e Segurança da Informação.pdf', 'file_path': '/content/documents/Política de Uso de E-mail e Segurança da Informação.pdf', 'total_pages': 1, 'format': 'PDF 1.4', 'title': 'Imersão: Política de Uso de E-mail e Segurança da Informação', 'author': '', 'subject': '', 'keywords': '', 'moddate': '', 'trapped': '', 'modDate': '', 'creationDate': '', 'page': 0}\n",
            "--------------------------\n",
            "page_content='Política de Reembolsos (Viagens e \n",
            "Despesas) \n",
            " \n",
            "1.​ Reembolso: requer nota fiscal e deve ser submetido em até 10 dias corridos após a \n",
            "despesa.​\n",
            " \n",
            "2.​ Alimentação em viagem: limite de R$ 70/dia por pessoa. Bebidas alcoólicas não \n",
            "são reembolsáveis.​' metadata={'producer': 'Skia/PDF m140 Google Docs Renderer', 'creator': '', 'creationdate': '', 'source': '/content/documents/Política de Reembolsos (Viagens e Despesas).pdf', 'file_path': '/content/documents/Política de Reembolsos (Viagens e Despesas).pdf', 'total_pages': 1, 'format': 'PDF 1.4', 'title': 'Imersão: Política de Reembolsos (Viagens e Despesas)', 'author': '', 'subject': '', 'keywords': '', 'moddate': '', 'trapped': '', 'modDate': '', 'creationDate': '', 'page': 0}\n",
            "--------------------------\n",
            "page_content='são reembolsáveis.​\n",
            " \n",
            "3.​ Transporte: táxi/app são permitidos quando não houver alternativa viável. \n",
            "Comprovantes obrigatórios.​\n",
            " \n",
            "4.​ Internet para home office: reembolsável via subsídio mensal de até R$ 100, \n",
            "conforme política de Home Office.​' metadata={'producer': 'Skia/PDF m140 Google Docs Renderer', 'creator': '', 'creationdate': '', 'source': '/content/documents/Política de Reembolsos (Viagens e Despesas).pdf', 'file_path': '/content/documents/Política de Reembolsos (Viagens e Despesas).pdf', 'total_pages': 1, 'format': 'PDF 1.4', 'title': 'Imersão: Política de Reembolsos (Viagens e Despesas)', 'author': '', 'subject': '', 'keywords': '', 'moddate': '', 'trapped': '', 'modDate': '', 'creationDate': '', 'page': 0}\n",
            "--------------------------\n",
            "page_content='5.​ Cursos e certificações: exigem aprovação prévia do gestor e orçamento do time.​\n",
            " \n",
            "6.​ Custos excepcionais (ex.: franquia de bagagem extra): devem ser justificados no \n",
            "chamado e aprovados antes da compra.' metadata={'producer': 'Skia/PDF m140 Google Docs Renderer', 'creator': '', 'creationdate': '', 'source': '/content/documents/Política de Reembolsos (Viagens e Despesas).pdf', 'file_path': '/content/documents/Política de Reembolsos (Viagens e Despesas).pdf', 'total_pages': 1, 'format': 'PDF 1.4', 'title': 'Imersão: Política de Reembolsos (Viagens e Despesas)', 'author': '', 'subject': '', 'keywords': '', 'moddate': '', 'trapped': '', 'modDate': '', 'creationDate': '', 'page': 0}\n",
            "--------------------------\n",
            "page_content='Políticas de Home Office \n",
            " \n",
            "1.​ A empresa adota modelo híbrido: mínimo de 2 dias presenciais por semana, salvo \n",
            "exceções aprovadas pelo gestor e RH.​\n",
            " \n",
            "2.​ Equipamentos: a empresa fornece notebook e periféricos. O colaborador é \n",
            "responsável por zelar pela conservação.​' metadata={'producer': 'Skia/PDF m140 Google Docs Renderer', 'creator': '', 'creationdate': '', 'source': '/content/documents/Políticas de Home Office.pdf', 'file_path': '/content/documents/Políticas de Home Office.pdf', 'total_pages': 1, 'format': 'PDF 1.4', 'title': 'Políticas de Home Office', 'author': '', 'subject': '', 'keywords': '', 'moddate': '', 'trapped': '', 'modDate': '', 'creationDate': '', 'page': 0}\n",
            "--------------------------\n",
            "page_content='3.​ Segurança: é obrigatório uso de VPN e bloqueio de tela. Documentos confidenciais \n",
            "não devem ser impressos fora do escritório.​\n",
            " \n",
            "4.​ Ergonomia: recomendamos cadeira adequada e suporte de monitor. O RH pode \n",
            "avaliar solicitação de apoio ergonômico.​' metadata={'producer': 'Skia/PDF m140 Google Docs Renderer', 'creator': '', 'creationdate': '', 'source': '/content/documents/Políticas de Home Office.pdf', 'file_path': '/content/documents/Políticas de Home Office.pdf', 'total_pages': 1, 'format': 'PDF 1.4', 'title': 'Políticas de Home Office', 'author': '', 'subject': '', 'keywords': '', 'moddate': '', 'trapped': '', 'modDate': '', 'creationDate': '', 'page': 0}\n",
            "--------------------------\n",
            "page_content='5.​ Conectividade: há subsídio mensal de internet domiciliar para quem trabalha em \n",
            "home office: até R$ 100/mês, mediante nota fiscal nominal.​\n",
            " \n",
            "6.​ Solicitação de exceção (ex.: 4-5 dias remotos): deve ser formalizada via chamado \n",
            "ao RH com justificativa do gestor.' metadata={'producer': 'Skia/PDF m140 Google Docs Renderer', 'creator': '', 'creationdate': '', 'source': '/content/documents/Políticas de Home Office.pdf', 'file_path': '/content/documents/Políticas de Home Office.pdf', 'total_pages': 1, 'format': 'PDF 1.4', 'title': 'Políticas de Home Office', 'author': '', 'subject': '', 'keywords': '', 'moddate': '', 'trapped': '', 'modDate': '', 'creationDate': '', 'page': 0}\n",
            "--------------------------\n"
          ]
        }
      ]
    },
    {
      "cell_type": "markdown",
      "source": [
        "Carregando o Google Gemini Embeddings"
      ],
      "metadata": {
        "id": "1v2QCU4Sls39"
      }
    },
    {
      "cell_type": "code",
      "source": [
        "from langchain_google_genai import GoogleGenerativeAIEmbeddings\n",
        "\n",
        "embeddings = GoogleGenerativeAIEmbeddings(\n",
        "    model = \"models/gemini-embedding-001\",\n",
        "    google_api_key = GOOGLE_API_KEY\n",
        ")"
      ],
      "metadata": {
        "id": "4ylxsfHxlV85"
      },
      "execution_count": 58,
      "outputs": []
    },
    {
      "cell_type": "markdown",
      "source": [
        "Importando a biblioteca FAISS (Facebook A.I. Similarity Search), que instalamos anteriormente, para ajudar a gente à realizar uma busca mais eficiente nos"
      ],
      "metadata": {
        "id": "AkfOiyYtmDdD"
      }
    },
    {
      "cell_type": "code",
      "source": [
        "from langchain_community.vectorstores import FAISS\n",
        "\n",
        "vectorstores = FAISS.from_documents(chunks, embeddings) # Importando os chunks que quebramos\n",
        "\n",
        "# Parâmetros de retorno\n",
        "# Retriever é quem vai fazer a comparação de quão distante estão os embeddings\n",
        "retriever = vectorstores.as_retriever(\n",
        "    search_type = \"similarity_score_threshold\", # Buscando por similaridades\n",
        "    search_kwargs = {\"score_threshold\": 0.3, \"k\": 4}\n",
        ")"
      ],
      "metadata": {
        "id": "JnOavpt9l6OC"
      },
      "execution_count": 61,
      "outputs": []
    },
    {
      "cell_type": "code",
      "source": [
        "from langchain_core.prompts import ChatPromptTemplate\n",
        "from langchain.chains.combine_documents import create_stuff_documents_chain\n",
        "\n",
        "# Agora vamos pegar todos os documentos como contexto para o nosso prompt\n",
        "prompt_rag = ChatPromptTemplate.from_messages([\n",
        "    (\"system\",\n",
        "     \"Você é um Assistente de Políticas Internas (RH/IT) da empresa Carraro Desenvolvimento. \"\n",
        "     \"Responda SOMENTE com base no contexto fornecido. \"\n",
        "     \"Se não houver base suficiente, responda apenas 'Não sei'.\"),\n",
        "\n",
        "    (\"human\", \"Pergunta: {input}\\n\\nContexto:\\n{context}\")\n",
        "])\n",
        "\n",
        "document_chain = create_stuff_documents_chain(llm_triagem, prompt_rag)"
      ],
      "metadata": {
        "id": "L9YoGSvfoLBk"
      },
      "execution_count": 63,
      "outputs": []
    },
    {
      "cell_type": "markdown",
      "source": [
        "Conectando tudo o que foi feito até agora"
      ],
      "metadata": {
        "id": "Qdo-ygDCsUKO"
      }
    },
    {
      "cell_type": "code",
      "source": [
        "def perguntar_politica_RAG(pergunta: str) -> Dict:\n",
        "  docs_relacionados = retriever.invoke(pergunta)\n",
        "\n",
        "  if not docs_relacionados:\n",
        "    return {\n",
        "        \"answer\": \"Não sei\",\n",
        "        \"citacoes\": [],\n",
        "        \"contexto_encontrado\": False\n",
        "    }\n",
        "\n",
        "  answer = document_chain.invoke({\n",
        "      \"input\": pergunta,\n",
        "      \"context\": docs_relacionados\n",
        "  })\n",
        "\n",
        "  txt = (answer or \"\").strip()\n",
        "\n",
        "  if txt.rstrip(\".!?\") == \"Não sei\":\n",
        "    return {\n",
        "        \"answer\": \"Não sei\",\n",
        "        \"citacoes\": [],\n",
        "        \"contexto_encontrado\": False\n",
        "    }\n",
        "\n",
        "  return {\n",
        "      \"answer\": txt,\n",
        "      \"citacoes\": docs_relacionados,\n",
        "      \"contexto_encontrado\": True\n",
        "  }"
      ],
      "metadata": {
        "id": "2urhb9Inp5va"
      },
      "execution_count": 65,
      "outputs": []
    },
    {
      "cell_type": "markdown",
      "source": [
        "Chamando a lista de perguntas Testes criada na Aula 01"
      ],
      "metadata": {
        "id": "w6fA8S9lsYcW"
      }
    },
    {
      "cell_type": "code",
      "source": [
        "for msg_teste in testes:\n",
        "  resposta = perguntar_politica_RAG(msg_teste)\n",
        "  print(f\"Pergunta: {msg_teste}\")\n",
        "  print(f\"Resposta: {resposta['answer']}\")\n",
        "\n",
        "  if resposta['contexto_encontrado']:\n",
        "    print(\"Citações: \")\n",
        "    print(resposta['citacoes'])\n",
        "\n",
        "  print(\"------------------------------------------------------------------\")"
      ],
      "metadata": {
        "colab": {
          "base_uri": "https://localhost:8080/"
        },
        "id": "W3SF4nSjscGv",
        "outputId": "c3843143-c0ed-4879-e486-2404256dfa8a"
      },
      "execution_count": 66,
      "outputs": [
        {
          "output_type": "stream",
          "name": "stdout",
          "text": [
            "Pergunta: Posso reemvolsar a internet?\n",
            "Resposta: Sim, a internet para home office é reembolsável via subsídio mensal de até R$ 100, mediante nota fiscal nominal.\n",
            "Citações: \n",
            "[Document(id='f6e4005e-2c8f-4112-8fd3-acedeb365c23', metadata={'producer': 'Skia/PDF m140 Google Docs Renderer', 'creator': '', 'creationdate': '', 'source': '/content/documents/Políticas de Home Office.pdf', 'file_path': '/content/documents/Políticas de Home Office.pdf', 'total_pages': 1, 'format': 'PDF 1.4', 'title': 'Políticas de Home Office', 'author': '', 'subject': '', 'keywords': '', 'moddate': '', 'trapped': '', 'modDate': '', 'creationDate': '', 'page': 0}, page_content='5.\\u200b Conectividade: há subsídio mensal de internet domiciliar para quem trabalha em \\nhome office: até R$ 100/mês, mediante nota fiscal nominal.\\u200b\\n \\n6.\\u200b Solicitação de exceção (ex.: 4-5 dias remotos): deve ser formalizada via chamado \\nao RH com justificativa do gestor.'), Document(id='92b99a88-ee1b-47a9-aa92-c19bd41bff47', metadata={'producer': 'Skia/PDF m140 Google Docs Renderer', 'creator': '', 'creationdate': '', 'source': '/content/documents/Política de Reembolsos (Viagens e Despesas).pdf', 'file_path': '/content/documents/Política de Reembolsos (Viagens e Despesas).pdf', 'total_pages': 1, 'format': 'PDF 1.4', 'title': 'Imersão: Política de Reembolsos (Viagens e Despesas)', 'author': '', 'subject': '', 'keywords': '', 'moddate': '', 'trapped': '', 'modDate': '', 'creationDate': '', 'page': 0}, page_content='são reembolsáveis.\\u200b\\n \\n3.\\u200b Transporte: táxi/app são permitidos quando não houver alternativa viável. \\nComprovantes obrigatórios.\\u200b\\n \\n4.\\u200b Internet para home office: reembolsável via subsídio mensal de até R$ 100, \\nconforme política de Home Office.\\u200b'), Document(id='ab8dbdc4-4717-40b5-b183-877384d59a58', metadata={'producer': 'Skia/PDF m140 Google Docs Renderer', 'creator': '', 'creationdate': '', 'source': '/content/documents/Políticas de Home Office.pdf', 'file_path': '/content/documents/Políticas de Home Office.pdf', 'total_pages': 1, 'format': 'PDF 1.4', 'title': 'Políticas de Home Office', 'author': '', 'subject': '', 'keywords': '', 'moddate': '', 'trapped': '', 'modDate': '', 'creationDate': '', 'page': 0}, page_content='Políticas de Home Office \\n \\n1.\\u200b A empresa adota modelo híbrido: mínimo de 2 dias presenciais por semana, salvo \\nexceções aprovadas pelo gestor e RH.\\u200b\\n \\n2.\\u200b Equipamentos: a empresa fornece notebook e periféricos. O colaborador é \\nresponsável por zelar pela conservação.\\u200b'), Document(id='57a7ec42-2ca4-46ae-b64a-92940c6f84f5', metadata={'producer': 'Skia/PDF m140 Google Docs Renderer', 'creator': '', 'creationdate': '', 'source': '/content/documents/Política de Reembolsos (Viagens e Despesas).pdf', 'file_path': '/content/documents/Política de Reembolsos (Viagens e Despesas).pdf', 'total_pages': 1, 'format': 'PDF 1.4', 'title': 'Imersão: Política de Reembolsos (Viagens e Despesas)', 'author': '', 'subject': '', 'keywords': '', 'moddate': '', 'trapped': '', 'modDate': '', 'creationDate': '', 'page': 0}, page_content='Política de Reembolsos (Viagens e \\nDespesas) \\n \\n1.\\u200b Reembolso: requer nota fiscal e deve ser submetido em até 10 dias corridos após a \\ndespesa.\\u200b\\n \\n2.\\u200b Alimentação em viagem: limite de R$ 70/dia por pessoa. Bebidas alcoólicas não \\nsão reembolsáveis.\\u200b')]\n",
            "------------------------------------------------------------------\n",
            "Pergunta: Quero mais 5 dias de trabalho remoto, como faço?\n",
            "Resposta: Você deve formalizar a solicitação via chamado ao RH com a justificativa do seu gestor.\n",
            "Citações: \n",
            "[Document(id='f6e4005e-2c8f-4112-8fd3-acedeb365c23', metadata={'producer': 'Skia/PDF m140 Google Docs Renderer', 'creator': '', 'creationdate': '', 'source': '/content/documents/Políticas de Home Office.pdf', 'file_path': '/content/documents/Políticas de Home Office.pdf', 'total_pages': 1, 'format': 'PDF 1.4', 'title': 'Políticas de Home Office', 'author': '', 'subject': '', 'keywords': '', 'moddate': '', 'trapped': '', 'modDate': '', 'creationDate': '', 'page': 0}, page_content='5.\\u200b Conectividade: há subsídio mensal de internet domiciliar para quem trabalha em \\nhome office: até R$ 100/mês, mediante nota fiscal nominal.\\u200b\\n \\n6.\\u200b Solicitação de exceção (ex.: 4-5 dias remotos): deve ser formalizada via chamado \\nao RH com justificativa do gestor.'), Document(id='ab8dbdc4-4717-40b5-b183-877384d59a58', metadata={'producer': 'Skia/PDF m140 Google Docs Renderer', 'creator': '', 'creationdate': '', 'source': '/content/documents/Políticas de Home Office.pdf', 'file_path': '/content/documents/Políticas de Home Office.pdf', 'total_pages': 1, 'format': 'PDF 1.4', 'title': 'Políticas de Home Office', 'author': '', 'subject': '', 'keywords': '', 'moddate': '', 'trapped': '', 'modDate': '', 'creationDate': '', 'page': 0}, page_content='Políticas de Home Office \\n \\n1.\\u200b A empresa adota modelo híbrido: mínimo de 2 dias presenciais por semana, salvo \\nexceções aprovadas pelo gestor e RH.\\u200b\\n \\n2.\\u200b Equipamentos: a empresa fornece notebook e periféricos. O colaborador é \\nresponsável por zelar pela conservação.\\u200b'), Document(id='92b99a88-ee1b-47a9-aa92-c19bd41bff47', metadata={'producer': 'Skia/PDF m140 Google Docs Renderer', 'creator': '', 'creationdate': '', 'source': '/content/documents/Política de Reembolsos (Viagens e Despesas).pdf', 'file_path': '/content/documents/Política de Reembolsos (Viagens e Despesas).pdf', 'total_pages': 1, 'format': 'PDF 1.4', 'title': 'Imersão: Política de Reembolsos (Viagens e Despesas)', 'author': '', 'subject': '', 'keywords': '', 'moddate': '', 'trapped': '', 'modDate': '', 'creationDate': '', 'page': 0}, page_content='são reembolsáveis.\\u200b\\n \\n3.\\u200b Transporte: táxi/app são permitidos quando não houver alternativa viável. \\nComprovantes obrigatórios.\\u200b\\n \\n4.\\u200b Internet para home office: reembolsável via subsídio mensal de até R$ 100, \\nconforme política de Home Office.\\u200b'), Document(id='ab96ac41-021c-4029-9c33-9adfa3e0aa94', metadata={'producer': 'Skia/PDF m140 Google Docs Renderer', 'creator': '', 'creationdate': '', 'source': '/content/documents/Políticas de Home Office.pdf', 'file_path': '/content/documents/Políticas de Home Office.pdf', 'total_pages': 1, 'format': 'PDF 1.4', 'title': 'Políticas de Home Office', 'author': '', 'subject': '', 'keywords': '', 'moddate': '', 'trapped': '', 'modDate': '', 'creationDate': '', 'page': 0}, page_content='3.\\u200b Segurança: é obrigatório uso de VPN e bloqueio de tela. Documentos confidenciais \\nnão devem ser impressos fora do escritório.\\u200b\\n \\n4.\\u200b Ergonomia: recomendamos cadeira adequada e suporte de monitor. O RH pode \\navaliar solicitação de apoio ergonômico.\\u200b')]\n",
            "------------------------------------------------------------------\n",
            "Pergunta: Posso reembolsar cursos ou treinamentos da Alura?\n",
            "Resposta: Cursos e certificações exigem aprovação prévia do gestor e orçamento do time.\n",
            "Citações: \n",
            "[Document(id='57a7ec42-2ca4-46ae-b64a-92940c6f84f5', metadata={'producer': 'Skia/PDF m140 Google Docs Renderer', 'creator': '', 'creationdate': '', 'source': '/content/documents/Política de Reembolsos (Viagens e Despesas).pdf', 'file_path': '/content/documents/Política de Reembolsos (Viagens e Despesas).pdf', 'total_pages': 1, 'format': 'PDF 1.4', 'title': 'Imersão: Política de Reembolsos (Viagens e Despesas)', 'author': '', 'subject': '', 'keywords': '', 'moddate': '', 'trapped': '', 'modDate': '', 'creationDate': '', 'page': 0}, page_content='Política de Reembolsos (Viagens e \\nDespesas) \\n \\n1.\\u200b Reembolso: requer nota fiscal e deve ser submetido em até 10 dias corridos após a \\ndespesa.\\u200b\\n \\n2.\\u200b Alimentação em viagem: limite de R$ 70/dia por pessoa. Bebidas alcoólicas não \\nsão reembolsáveis.\\u200b'), Document(id='d87e286f-930d-4a94-ba7a-d3c61e000e75', metadata={'producer': 'Skia/PDF m140 Google Docs Renderer', 'creator': '', 'creationdate': '', 'source': '/content/documents/Política de Reembolsos (Viagens e Despesas).pdf', 'file_path': '/content/documents/Política de Reembolsos (Viagens e Despesas).pdf', 'total_pages': 1, 'format': 'PDF 1.4', 'title': 'Imersão: Política de Reembolsos (Viagens e Despesas)', 'author': '', 'subject': '', 'keywords': '', 'moddate': '', 'trapped': '', 'modDate': '', 'creationDate': '', 'page': 0}, page_content='5.\\u200b Cursos e certificações: exigem aprovação prévia do gestor e orçamento do time.\\u200b\\n \\n6.\\u200b Custos excepcionais (ex.: franquia de bagagem extra): devem ser justificados no \\nchamado e aprovados antes da compra.'), Document(id='92b99a88-ee1b-47a9-aa92-c19bd41bff47', metadata={'producer': 'Skia/PDF m140 Google Docs Renderer', 'creator': '', 'creationdate': '', 'source': '/content/documents/Política de Reembolsos (Viagens e Despesas).pdf', 'file_path': '/content/documents/Política de Reembolsos (Viagens e Despesas).pdf', 'total_pages': 1, 'format': 'PDF 1.4', 'title': 'Imersão: Política de Reembolsos (Viagens e Despesas)', 'author': '', 'subject': '', 'keywords': '', 'moddate': '', 'trapped': '', 'modDate': '', 'creationDate': '', 'page': 0}, page_content='são reembolsáveis.\\u200b\\n \\n3.\\u200b Transporte: táxi/app são permitidos quando não houver alternativa viável. \\nComprovantes obrigatórios.\\u200b\\n \\n4.\\u200b Internet para home office: reembolsável via subsídio mensal de até R$ 100, \\nconforme política de Home Office.\\u200b'), Document(id='ab8dbdc4-4717-40b5-b183-877384d59a58', metadata={'producer': 'Skia/PDF m140 Google Docs Renderer', 'creator': '', 'creationdate': '', 'source': '/content/documents/Políticas de Home Office.pdf', 'file_path': '/content/documents/Políticas de Home Office.pdf', 'total_pages': 1, 'format': 'PDF 1.4', 'title': 'Políticas de Home Office', 'author': '', 'subject': '', 'keywords': '', 'moddate': '', 'trapped': '', 'modDate': '', 'creationDate': '', 'page': 0}, page_content='Políticas de Home Office \\n \\n1.\\u200b A empresa adota modelo híbrido: mínimo de 2 dias presenciais por semana, salvo \\nexceções aprovadas pelo gestor e RH.\\u200b\\n \\n2.\\u200b Equipamentos: a empresa fornece notebook e periféricos. O colaborador é \\nresponsável por zelar pela conservação.\\u200b')]\n",
            "------------------------------------------------------------------\n",
            "Pergunta: Quantas capivaras eu precisaria para fazer uma torre até a Lua?\n",
            "Resposta: Não sei\n",
            "------------------------------------------------------------------\n"
          ]
        }
      ]
    },
    {
      "cell_type": "code",
      "source": [
        "# Formatadores\n",
        "import re, pathlib\n",
        "\n",
        "def _clean_text(s: str) -> str:\n",
        "    return re.sub(r\"\\s+\", \" \", s or \"\").strip()\n",
        "\n",
        "def extrair_trecho(texto: str, query: str, janela: int = 240) -> str:\n",
        "    txt = _clean_text(texto)\n",
        "    termos = [t.lower() for t in re.findall(r\"\\w+\", query or \"\") if len(t) >= 4]\n",
        "    pos = -1\n",
        "    for t in termos:\n",
        "        pos = txt.lower().find(t)\n",
        "        if pos != -1: break\n",
        "    if pos == -1: pos = 0\n",
        "    ini, fim = max(0, pos - janela//2), min(len(txt), pos + janela//2)\n",
        "    return txt[ini:fim]\n",
        "\n",
        "def formatar_citacoes(docs_rel: List, query: str) -> List[Dict]:\n",
        "    cites, seen = [], set()\n",
        "    for d in docs_rel:\n",
        "        src = pathlib.Path(d.metadata.get(\"source\",\"\")).name\n",
        "        page = int(d.metadata.get(\"page\", 0)) + 1\n",
        "        key = (src, page)\n",
        "        if key in seen:\n",
        "            continue\n",
        "        seen.add(key)\n",
        "        cites.append({\"documento\": src, \"pagina\": page, \"trecho\": extrair_trecho(d.page_content, query)})\n",
        "    return cites[:3]"
      ],
      "metadata": {
        "id": "HS0mhFHetSq8"
      },
      "execution_count": 67,
      "outputs": []
    },
    {
      "cell_type": "code",
      "source": [
        "def perguntar_politica_RAG(pergunta: str) -> Dict:\n",
        "    docs_relacionados = retriever.invoke(pergunta)\n",
        "\n",
        "    if not docs_relacionados:\n",
        "        return {\"answer\": \"Não sei.\",\n",
        "                \"citacoes\": [],\n",
        "                \"contexto_encontrado\": False}\n",
        "\n",
        "    answer = document_chain.invoke({\"input\": pergunta,\n",
        "                                    \"context\": docs_relacionados})\n",
        "\n",
        "    txt = (answer or \"\").strip()\n",
        "\n",
        "    if txt.rstrip(\".!?\") == \"Não sei\":\n",
        "        return {\"answer\": \"Não sei.\",\n",
        "                \"citacoes\": [],\n",
        "                \"contexto_encontrado\": False}\n",
        "\n",
        "    return {\"answer\": txt,\n",
        "            \"citacoes\": formatar_citacoes(docs_relacionados, pergunta),\n",
        "            \"contexto_encontrado\": True}"
      ],
      "metadata": {
        "id": "4h5pATsFtX0L"
      },
      "execution_count": 68,
      "outputs": []
    },
    {
      "cell_type": "code",
      "source": [
        "testes = [\"Posso reembolsar a internet?\",\n",
        "          \"Quero mais 5 dias de trabalho remoto. Como faço?\",\n",
        "          \"Posso reembolsar cursos ou treinamentos da Alura?\",\n",
        "          \"Posso reemblsar os gastos que tenho com minha capivara corporativa?\"]"
      ],
      "metadata": {
        "id": "9Cqdq8A8tdWL"
      },
      "execution_count": 69,
      "outputs": []
    },
    {
      "cell_type": "code",
      "source": [
        "for msg_teste in testes:\n",
        "    resposta = perguntar_politica_RAG(msg_teste)\n",
        "    print(f\"PERGUNTA: {msg_teste}\")\n",
        "    print(f\"RESPOSTA: {resposta['answer']}\")\n",
        "    if resposta['contexto_encontrado']:\n",
        "        print(\"CITAÇÕES:\")\n",
        "        for c in resposta['citacoes']:\n",
        "            print(f\" - Documento: {c['documento']}, Página: {c['pagina']}\")\n",
        "            print(f\"   Trecho: {c['trecho']}\")\n",
        "        print(\"------------------------------------\")"
      ],
      "metadata": {
        "colab": {
          "base_uri": "https://localhost:8080/"
        },
        "id": "tSaWoICsta7h",
        "outputId": "fca3f2d4-3cf1-4135-bb42-c89acd4439f3"
      },
      "execution_count": 71,
      "outputs": [
        {
          "output_type": "stream",
          "name": "stdout",
          "text": [
            "PERGUNTA: Posso reembolsar a internet?\n",
            "RESPOSTA: Sim, a internet para home office é reembolsável via subsídio mensal de até R$ 100, mediante nota fiscal nominal.\n",
            "CITAÇÕES:\n",
            " - Documento: Política de Reembolsos (Viagens e Despesas).pdf, Página: 1\n",
            "   Trecho: lsáveis.​ 3.​ Transporte: táxi/app são permitidos quando não houver alternativa viável. Comprovantes obrigatórios.​ 4.​ Internet para home office: reembolsável via subsídio mensal de até R$ 100, conforme política de Home Office.​\n",
            " - Documento: Políticas de Home Office.pdf, Página: 1\n",
            "   Trecho: 5.​ Conectividade: há subsídio mensal de internet domiciliar para quem trabalha em home office: até R$ 100/mês, mediante nota fiscal nominal.​ 6.​ Solicitação de\n",
            "------------------------------------\n",
            "PERGUNTA: Quero mais 5 dias de trabalho remoto. Como faço?\n",
            "RESPOSTA: Para solicitar mais 5 dias de trabalho remoto, você deve formalizar a solicitação via chamado ao RH com a justificativa do seu gestor.\n",
            "CITAÇÕES:\n",
            " - Documento: Políticas de Home Office.pdf, Página: 1\n",
            "   Trecho:  para quem trabalha em home office: até R$ 100/mês, mediante nota fiscal nominal.​ 6.​ Solicitação de exceção (ex.: 4-5 dias remotos): deve ser formalizada via chamado ao RH com justificativa do gestor.\n",
            " - Documento: Política de Reembolsos (Viagens e Despesas).pdf, Página: 1\n",
            "   Trecho: são reembolsáveis.​ 3.​ Transporte: táxi/app são permitidos quando não houver alternativa viável. Comprovantes obrigatór\n",
            "------------------------------------\n",
            "PERGUNTA: Posso reembolsar cursos ou treinamentos da Alura?\n",
            "RESPOSTA: Cursos e certificações exigem aprovação prévia do gestor e orçamento do time para serem reembolsados.\n",
            "CITAÇÕES:\n",
            " - Documento: Política de Reembolsos (Viagens e Despesas).pdf, Página: 1\n",
            "   Trecho: Política de Reembolsos (Viagens e Despesas) 1.​ Reembolso: requer nota fiscal e deve ser submetido em até 10 dias corrid\n",
            " - Documento: Políticas de Home Office.pdf, Página: 1\n",
            "   Trecho: Políticas de Home Office 1.​ A empresa adota modelo híbrido: mínimo de 2 dias presenciais por semana, salvo exceções apr\n",
            "------------------------------------\n",
            "PERGUNTA: Posso reemblsar os gastos que tenho com minha capivara corporativa?\n",
            "RESPOSTA: Não sei.\n"
          ]
        }
      ]
    },
    {
      "cell_type": "markdown",
      "source": [
        "# Imersão Agentes de IA - Alura + Google Gemini: Aula 03 (???)"
      ],
      "metadata": {
        "id": "9pgb7w9NGb19"
      }
    },
    {
      "cell_type": "markdown",
      "source": [
        "Title"
      ],
      "metadata": {
        "id": "Qxw3vWdyGkgI"
      }
    },
    {
      "cell_type": "code",
      "source": [
        "..."
      ],
      "metadata": {
        "id": "eu0rv_QSGky5"
      },
      "execution_count": null,
      "outputs": []
    }
  ]
}